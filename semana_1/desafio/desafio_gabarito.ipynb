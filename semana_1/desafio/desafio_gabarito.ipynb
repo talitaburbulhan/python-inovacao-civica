{
  "cells": [
    {
      "cell_type": "markdown",
      "id": "b0c02ae8-da85-499a-99c9-8c3da9e1ae05",
      "metadata": {
        "id": "b0c02ae8-da85-499a-99c9-8c3da9e1ae05"
      },
      "source": [
        "# Explorando dados\n",
        "\n",
        "Neste desafio colocaremos em prática alguns conceitos apresentado nas aulas. Para isso, usaremos o conjunto de dados [Candidatos - 2022](https://dadosabertos.tse.jus.br/dataset/candidatos-2022) disponível no Portal de Dados Abertos do Tribunal Superior Eleitoral.\n",
        "\n",
        "Os dados também podem ser encontrados na pasta \"Dados\" deste repositório.\n",
        "\n",
        "Siga as orientações abaixo para completar o desafio:"
      ]
    },
    {
      "cell_type": "markdown",
      "id": "d2bf34dd-2879-4dd6-b65b-4944a34c03d4",
      "metadata": {
        "id": "d2bf34dd-2879-4dd6-b65b-4944a34c03d4"
      },
      "source": [
        "# Importe os pacotes necessários"
      ]
    },
    {
      "cell_type": "code",
      "execution_count": 2,
      "id": "b286617f-43b9-4c20-8b0e-5ae0da7e4a9f",
      "metadata": {
        "id": "b286617f-43b9-4c20-8b0e-5ae0da7e4a9f"
      },
      "outputs": [],
      "source": [
        "import pandas as pd\n",
        "import glob as gb"
      ]
    },
    {
      "cell_type": "markdown",
      "id": "ced62f05-5e3c-4565-b13c-f359fb8c35bf",
      "metadata": {
        "id": "ced62f05-5e3c-4565-b13c-f359fb8c35bf"
      },
      "source": [
        "# Crie uma lista com o título dos arquivos usando a biblioteca Gloob"
      ]
    },
    {
      "cell_type": "code",
      "execution_count": 17,
      "id": "45b0cb8f-d567-4274-877f-53e8faa7d1be",
      "metadata": {
        "id": "45b0cb8f-d567-4274-877f-53e8faa7d1be"
      },
      "outputs": [],
      "source": [
        "arquivos = gb.glob('consulta_*.csv')"
      ]
    },
    {
      "cell_type": "code",
      "source": [
        "arquivos"
      ],
      "metadata": {
        "id": "O0kd8-t4ISTE",
        "outputId": "6a11729d-66e6-4efd-fe07-96cec74a8ead",
        "colab": {
          "base_uri": "https://localhost:8080/"
        }
      },
      "id": "O0kd8-t4ISTE",
      "execution_count": 18,
      "outputs": [
        {
          "output_type": "execute_result",
          "data": {
            "text/plain": [
              "['consulta_cand_2022_PE.csv', 'consulta_cand_2022_RN.csv']"
            ]
          },
          "metadata": {},
          "execution_count": 18
        }
      ]
    },
    {
      "cell_type": "markdown",
      "id": "cf29db73-447b-4375-bad5-2df7aa7c4743",
      "metadata": {
        "id": "cf29db73-447b-4375-bad5-2df7aa7c4743"
      },
      "source": [
        "# Crie um laço (loop) para ler todos os arquivos da lista (usando a biblioteca Pandas) e armazenar os dataframes em uma lista"
      ]
    },
    {
      "cell_type": "code",
      "execution_count": 29,
      "id": "dd63f03d-147e-4fda-ba61-9edb0bdee254",
      "metadata": {
        "id": "dd63f03d-147e-4fda-ba61-9edb0bdee254"
      },
      "outputs": [],
      "source": [
        "lista_df = []"
      ]
    },
    {
      "cell_type": "code",
      "source": [
        "for csv in arquivos:\n",
        "  df = pd.read_csv(csv, encoding=\"Latin 1\", engine= 'python', sep=';', na_values=['#NULO#', -1])\n",
        "  lista_df.append(df) "
      ],
      "metadata": {
        "id": "dRwD_i_kKWU9"
      },
      "id": "dRwD_i_kKWU9",
      "execution_count": 30,
      "outputs": []
    },
    {
      "cell_type": "code",
      "source": [
        "lista_df[0]"
      ],
      "metadata": {
        "id": "ARMBe15qKz6i",
        "outputId": "cf09056f-084d-4b40-e275-fa2fbbb3dc2d",
        "colab": {
          "base_uri": "https://localhost:8080/",
          "height": 1000
        }
      },
      "id": "ARMBe15qKz6i",
      "execution_count": 31,
      "outputs": [
        {
          "output_type": "execute_result",
          "data": {
            "text/plain": [
              "      DT_GERACAO HH_GERACAO  ANO_ELEICAO  CD_TIPO_ELEICAO    NM_TIPO_ELEICAO  \\\n",
              "0     22/08/2022   13:05:30         2022                2  ELEIÇÃO ORDINÁRIA   \n",
              "1     22/08/2022   13:05:30         2022                2  ELEIÇÃO ORDINÁRIA   \n",
              "2     22/08/2022   13:05:30         2022                2  ELEIÇÃO ORDINÁRIA   \n",
              "3     22/08/2022   13:05:30         2022                2  ELEIÇÃO ORDINÁRIA   \n",
              "4     22/08/2022   13:05:30         2022                2  ELEIÇÃO ORDINÁRIA   \n",
              "...          ...        ...          ...              ...                ...   \n",
              "1105  22/08/2022   13:05:30         2022                2  ELEIÇÃO ORDINÁRIA   \n",
              "1106  22/08/2022   13:05:30         2022                2  ELEIÇÃO ORDINÁRIA   \n",
              "1107  22/08/2022   13:05:30         2022                2  ELEIÇÃO ORDINÁRIA   \n",
              "1108  22/08/2022   13:05:30         2022                2  ELEIÇÃO ORDINÁRIA   \n",
              "1109  22/08/2022   13:05:30         2022                2  ELEIÇÃO ORDINÁRIA   \n",
              "\n",
              "      NR_TURNO  CD_ELEICAO                      DS_ELEICAO  DT_ELEICAO  \\\n",
              "0            1         546  Eleições Gerais Estaduais 2022  02/10/2022   \n",
              "1            1         546  Eleições Gerais Estaduais 2022  02/10/2022   \n",
              "2            1         546  Eleições Gerais Estaduais 2022  02/10/2022   \n",
              "3            1         546  Eleições Gerais Estaduais 2022  02/10/2022   \n",
              "4            1         546  Eleições Gerais Estaduais 2022  02/10/2022   \n",
              "...        ...         ...                             ...         ...   \n",
              "1105         1         546  Eleições Gerais Estaduais 2022  02/10/2022   \n",
              "1106         1         546  Eleições Gerais Estaduais 2022  02/10/2022   \n",
              "1107         1         546  Eleições Gerais Estaduais 2022  02/10/2022   \n",
              "1108         1         546  Eleições Gerais Estaduais 2022  02/10/2022   \n",
              "1109         1         546  Eleições Gerais Estaduais 2022  02/10/2022   \n",
              "\n",
              "     TP_ABRANGENCIA  ...          NR_PROCESSO CD_SITUACAO_CANDIDATO_PLEITO  \\\n",
              "0          ESTADUAL  ...  6016958820226170000                          NaN   \n",
              "1          ESTADUAL  ...  6012991420226170000                          NaN   \n",
              "2          ESTADUAL  ...  6013234220226170000                          NaN   \n",
              "3          ESTADUAL  ...  6013849720226170000                          NaN   \n",
              "4          ESTADUAL  ...  6005170720226170000                          NaN   \n",
              "...             ...  ...                  ...                          ...   \n",
              "1105       ESTADUAL  ...  6014759020226170000                          NaN   \n",
              "1106       ESTADUAL  ...  6008661020226170000                          NaN   \n",
              "1107       ESTADUAL  ...  6014949620226170000                          NaN   \n",
              "1108       ESTADUAL  ...  6010696920226170000                          NaN   \n",
              "1109       ESTADUAL  ...  6013701620226170000                          NaN   \n",
              "\n",
              "     DS_SITUACAO_CANDIDATO_PLEITO  CD_SITUACAO_CANDIDATO_URNA  \\\n",
              "0                             NaN                         NaN   \n",
              "1                             NaN                         NaN   \n",
              "2                             NaN                         NaN   \n",
              "3                             NaN                         NaN   \n",
              "4                             NaN                         NaN   \n",
              "...                           ...                         ...   \n",
              "1105                          NaN                         NaN   \n",
              "1106                          NaN                         NaN   \n",
              "1107                          NaN                         NaN   \n",
              "1108                          NaN                         NaN   \n",
              "1109                          NaN                         NaN   \n",
              "\n",
              "     DS_SITUACAO_CANDIDATO_URNA  ST_CANDIDATO_INSERIDO_URNA  \\\n",
              "0                           NaN                         NÃO   \n",
              "1                           NaN                         NÃO   \n",
              "2                           NaN                         NÃO   \n",
              "3                           NaN                         NÃO   \n",
              "4                           NaN                         NÃO   \n",
              "...                         ...                         ...   \n",
              "1105                        NaN                         NÃO   \n",
              "1106                        NaN                         NÃO   \n",
              "1107                        NaN                         NÃO   \n",
              "1108                        NaN                         NÃO   \n",
              "1109                        NaN                         NÃO   \n",
              "\n",
              "      NM_TIPO_DESTINACAO_VOTOS CD_SITUACAO_CANDIDATO_TOT  \\\n",
              "0                          NaN                       NaN   \n",
              "1                          NaN                       NaN   \n",
              "2                          NaN                       NaN   \n",
              "3                          NaN                       NaN   \n",
              "4                          NaN                       NaN   \n",
              "...                        ...                       ...   \n",
              "1105                       NaN                       NaN   \n",
              "1106                       NaN                       NaN   \n",
              "1107                       NaN                       NaN   \n",
              "1108                       NaN                       NaN   \n",
              "1109                       NaN                       NaN   \n",
              "\n",
              "     DS_SITUACAO_CANDIDATO_TOT ST_PREST_CONTAS  \n",
              "0                          NaN               N  \n",
              "1                          NaN               N  \n",
              "2                          NaN               N  \n",
              "3                          NaN               N  \n",
              "4                          NaN               N  \n",
              "...                        ...             ...  \n",
              "1105                       NaN               N  \n",
              "1106                       NaN               N  \n",
              "1107                       NaN               N  \n",
              "1108                       NaN               N  \n",
              "1109                       NaN               N  \n",
              "\n",
              "[1110 rows x 71 columns]"
            ],
            "text/html": [
              "\n",
              "  <div id=\"df-2ed10be7-c9dc-4a26-a89f-2c3f03dfe186\">\n",
              "    <div class=\"colab-df-container\">\n",
              "      <div>\n",
              "<style scoped>\n",
              "    .dataframe tbody tr th:only-of-type {\n",
              "        vertical-align: middle;\n",
              "    }\n",
              "\n",
              "    .dataframe tbody tr th {\n",
              "        vertical-align: top;\n",
              "    }\n",
              "\n",
              "    .dataframe thead th {\n",
              "        text-align: right;\n",
              "    }\n",
              "</style>\n",
              "<table border=\"1\" class=\"dataframe\">\n",
              "  <thead>\n",
              "    <tr style=\"text-align: right;\">\n",
              "      <th></th>\n",
              "      <th>DT_GERACAO</th>\n",
              "      <th>HH_GERACAO</th>\n",
              "      <th>ANO_ELEICAO</th>\n",
              "      <th>CD_TIPO_ELEICAO</th>\n",
              "      <th>NM_TIPO_ELEICAO</th>\n",
              "      <th>NR_TURNO</th>\n",
              "      <th>CD_ELEICAO</th>\n",
              "      <th>DS_ELEICAO</th>\n",
              "      <th>DT_ELEICAO</th>\n",
              "      <th>TP_ABRANGENCIA</th>\n",
              "      <th>...</th>\n",
              "      <th>NR_PROCESSO</th>\n",
              "      <th>CD_SITUACAO_CANDIDATO_PLEITO</th>\n",
              "      <th>DS_SITUACAO_CANDIDATO_PLEITO</th>\n",
              "      <th>CD_SITUACAO_CANDIDATO_URNA</th>\n",
              "      <th>DS_SITUACAO_CANDIDATO_URNA</th>\n",
              "      <th>ST_CANDIDATO_INSERIDO_URNA</th>\n",
              "      <th>NM_TIPO_DESTINACAO_VOTOS</th>\n",
              "      <th>CD_SITUACAO_CANDIDATO_TOT</th>\n",
              "      <th>DS_SITUACAO_CANDIDATO_TOT</th>\n",
              "      <th>ST_PREST_CONTAS</th>\n",
              "    </tr>\n",
              "  </thead>\n",
              "  <tbody>\n",
              "    <tr>\n",
              "      <th>0</th>\n",
              "      <td>22/08/2022</td>\n",
              "      <td>13:05:30</td>\n",
              "      <td>2022</td>\n",
              "      <td>2</td>\n",
              "      <td>ELEIÇÃO ORDINÁRIA</td>\n",
              "      <td>1</td>\n",
              "      <td>546</td>\n",
              "      <td>Eleições Gerais Estaduais 2022</td>\n",
              "      <td>02/10/2022</td>\n",
              "      <td>ESTADUAL</td>\n",
              "      <td>...</td>\n",
              "      <td>6016958820226170000</td>\n",
              "      <td>NaN</td>\n",
              "      <td>NaN</td>\n",
              "      <td>NaN</td>\n",
              "      <td>NaN</td>\n",
              "      <td>NÃO</td>\n",
              "      <td>NaN</td>\n",
              "      <td>NaN</td>\n",
              "      <td>NaN</td>\n",
              "      <td>N</td>\n",
              "    </tr>\n",
              "    <tr>\n",
              "      <th>1</th>\n",
              "      <td>22/08/2022</td>\n",
              "      <td>13:05:30</td>\n",
              "      <td>2022</td>\n",
              "      <td>2</td>\n",
              "      <td>ELEIÇÃO ORDINÁRIA</td>\n",
              "      <td>1</td>\n",
              "      <td>546</td>\n",
              "      <td>Eleições Gerais Estaduais 2022</td>\n",
              "      <td>02/10/2022</td>\n",
              "      <td>ESTADUAL</td>\n",
              "      <td>...</td>\n",
              "      <td>6012991420226170000</td>\n",
              "      <td>NaN</td>\n",
              "      <td>NaN</td>\n",
              "      <td>NaN</td>\n",
              "      <td>NaN</td>\n",
              "      <td>NÃO</td>\n",
              "      <td>NaN</td>\n",
              "      <td>NaN</td>\n",
              "      <td>NaN</td>\n",
              "      <td>N</td>\n",
              "    </tr>\n",
              "    <tr>\n",
              "      <th>2</th>\n",
              "      <td>22/08/2022</td>\n",
              "      <td>13:05:30</td>\n",
              "      <td>2022</td>\n",
              "      <td>2</td>\n",
              "      <td>ELEIÇÃO ORDINÁRIA</td>\n",
              "      <td>1</td>\n",
              "      <td>546</td>\n",
              "      <td>Eleições Gerais Estaduais 2022</td>\n",
              "      <td>02/10/2022</td>\n",
              "      <td>ESTADUAL</td>\n",
              "      <td>...</td>\n",
              "      <td>6013234220226170000</td>\n",
              "      <td>NaN</td>\n",
              "      <td>NaN</td>\n",
              "      <td>NaN</td>\n",
              "      <td>NaN</td>\n",
              "      <td>NÃO</td>\n",
              "      <td>NaN</td>\n",
              "      <td>NaN</td>\n",
              "      <td>NaN</td>\n",
              "      <td>N</td>\n",
              "    </tr>\n",
              "    <tr>\n",
              "      <th>3</th>\n",
              "      <td>22/08/2022</td>\n",
              "      <td>13:05:30</td>\n",
              "      <td>2022</td>\n",
              "      <td>2</td>\n",
              "      <td>ELEIÇÃO ORDINÁRIA</td>\n",
              "      <td>1</td>\n",
              "      <td>546</td>\n",
              "      <td>Eleições Gerais Estaduais 2022</td>\n",
              "      <td>02/10/2022</td>\n",
              "      <td>ESTADUAL</td>\n",
              "      <td>...</td>\n",
              "      <td>6013849720226170000</td>\n",
              "      <td>NaN</td>\n",
              "      <td>NaN</td>\n",
              "      <td>NaN</td>\n",
              "      <td>NaN</td>\n",
              "      <td>NÃO</td>\n",
              "      <td>NaN</td>\n",
              "      <td>NaN</td>\n",
              "      <td>NaN</td>\n",
              "      <td>N</td>\n",
              "    </tr>\n",
              "    <tr>\n",
              "      <th>4</th>\n",
              "      <td>22/08/2022</td>\n",
              "      <td>13:05:30</td>\n",
              "      <td>2022</td>\n",
              "      <td>2</td>\n",
              "      <td>ELEIÇÃO ORDINÁRIA</td>\n",
              "      <td>1</td>\n",
              "      <td>546</td>\n",
              "      <td>Eleições Gerais Estaduais 2022</td>\n",
              "      <td>02/10/2022</td>\n",
              "      <td>ESTADUAL</td>\n",
              "      <td>...</td>\n",
              "      <td>6005170720226170000</td>\n",
              "      <td>NaN</td>\n",
              "      <td>NaN</td>\n",
              "      <td>NaN</td>\n",
              "      <td>NaN</td>\n",
              "      <td>NÃO</td>\n",
              "      <td>NaN</td>\n",
              "      <td>NaN</td>\n",
              "      <td>NaN</td>\n",
              "      <td>N</td>\n",
              "    </tr>\n",
              "    <tr>\n",
              "      <th>...</th>\n",
              "      <td>...</td>\n",
              "      <td>...</td>\n",
              "      <td>...</td>\n",
              "      <td>...</td>\n",
              "      <td>...</td>\n",
              "      <td>...</td>\n",
              "      <td>...</td>\n",
              "      <td>...</td>\n",
              "      <td>...</td>\n",
              "      <td>...</td>\n",
              "      <td>...</td>\n",
              "      <td>...</td>\n",
              "      <td>...</td>\n",
              "      <td>...</td>\n",
              "      <td>...</td>\n",
              "      <td>...</td>\n",
              "      <td>...</td>\n",
              "      <td>...</td>\n",
              "      <td>...</td>\n",
              "      <td>...</td>\n",
              "      <td>...</td>\n",
              "    </tr>\n",
              "    <tr>\n",
              "      <th>1105</th>\n",
              "      <td>22/08/2022</td>\n",
              "      <td>13:05:30</td>\n",
              "      <td>2022</td>\n",
              "      <td>2</td>\n",
              "      <td>ELEIÇÃO ORDINÁRIA</td>\n",
              "      <td>1</td>\n",
              "      <td>546</td>\n",
              "      <td>Eleições Gerais Estaduais 2022</td>\n",
              "      <td>02/10/2022</td>\n",
              "      <td>ESTADUAL</td>\n",
              "      <td>...</td>\n",
              "      <td>6014759020226170000</td>\n",
              "      <td>NaN</td>\n",
              "      <td>NaN</td>\n",
              "      <td>NaN</td>\n",
              "      <td>NaN</td>\n",
              "      <td>NÃO</td>\n",
              "      <td>NaN</td>\n",
              "      <td>NaN</td>\n",
              "      <td>NaN</td>\n",
              "      <td>N</td>\n",
              "    </tr>\n",
              "    <tr>\n",
              "      <th>1106</th>\n",
              "      <td>22/08/2022</td>\n",
              "      <td>13:05:30</td>\n",
              "      <td>2022</td>\n",
              "      <td>2</td>\n",
              "      <td>ELEIÇÃO ORDINÁRIA</td>\n",
              "      <td>1</td>\n",
              "      <td>546</td>\n",
              "      <td>Eleições Gerais Estaduais 2022</td>\n",
              "      <td>02/10/2022</td>\n",
              "      <td>ESTADUAL</td>\n",
              "      <td>...</td>\n",
              "      <td>6008661020226170000</td>\n",
              "      <td>NaN</td>\n",
              "      <td>NaN</td>\n",
              "      <td>NaN</td>\n",
              "      <td>NaN</td>\n",
              "      <td>NÃO</td>\n",
              "      <td>NaN</td>\n",
              "      <td>NaN</td>\n",
              "      <td>NaN</td>\n",
              "      <td>N</td>\n",
              "    </tr>\n",
              "    <tr>\n",
              "      <th>1107</th>\n",
              "      <td>22/08/2022</td>\n",
              "      <td>13:05:30</td>\n",
              "      <td>2022</td>\n",
              "      <td>2</td>\n",
              "      <td>ELEIÇÃO ORDINÁRIA</td>\n",
              "      <td>1</td>\n",
              "      <td>546</td>\n",
              "      <td>Eleições Gerais Estaduais 2022</td>\n",
              "      <td>02/10/2022</td>\n",
              "      <td>ESTADUAL</td>\n",
              "      <td>...</td>\n",
              "      <td>6014949620226170000</td>\n",
              "      <td>NaN</td>\n",
              "      <td>NaN</td>\n",
              "      <td>NaN</td>\n",
              "      <td>NaN</td>\n",
              "      <td>NÃO</td>\n",
              "      <td>NaN</td>\n",
              "      <td>NaN</td>\n",
              "      <td>NaN</td>\n",
              "      <td>N</td>\n",
              "    </tr>\n",
              "    <tr>\n",
              "      <th>1108</th>\n",
              "      <td>22/08/2022</td>\n",
              "      <td>13:05:30</td>\n",
              "      <td>2022</td>\n",
              "      <td>2</td>\n",
              "      <td>ELEIÇÃO ORDINÁRIA</td>\n",
              "      <td>1</td>\n",
              "      <td>546</td>\n",
              "      <td>Eleições Gerais Estaduais 2022</td>\n",
              "      <td>02/10/2022</td>\n",
              "      <td>ESTADUAL</td>\n",
              "      <td>...</td>\n",
              "      <td>6010696920226170000</td>\n",
              "      <td>NaN</td>\n",
              "      <td>NaN</td>\n",
              "      <td>NaN</td>\n",
              "      <td>NaN</td>\n",
              "      <td>NÃO</td>\n",
              "      <td>NaN</td>\n",
              "      <td>NaN</td>\n",
              "      <td>NaN</td>\n",
              "      <td>N</td>\n",
              "    </tr>\n",
              "    <tr>\n",
              "      <th>1109</th>\n",
              "      <td>22/08/2022</td>\n",
              "      <td>13:05:30</td>\n",
              "      <td>2022</td>\n",
              "      <td>2</td>\n",
              "      <td>ELEIÇÃO ORDINÁRIA</td>\n",
              "      <td>1</td>\n",
              "      <td>546</td>\n",
              "      <td>Eleições Gerais Estaduais 2022</td>\n",
              "      <td>02/10/2022</td>\n",
              "      <td>ESTADUAL</td>\n",
              "      <td>...</td>\n",
              "      <td>6013701620226170000</td>\n",
              "      <td>NaN</td>\n",
              "      <td>NaN</td>\n",
              "      <td>NaN</td>\n",
              "      <td>NaN</td>\n",
              "      <td>NÃO</td>\n",
              "      <td>NaN</td>\n",
              "      <td>NaN</td>\n",
              "      <td>NaN</td>\n",
              "      <td>N</td>\n",
              "    </tr>\n",
              "  </tbody>\n",
              "</table>\n",
              "<p>1110 rows × 71 columns</p>\n",
              "</div>\n",
              "      <button class=\"colab-df-convert\" onclick=\"convertToInteractive('df-2ed10be7-c9dc-4a26-a89f-2c3f03dfe186')\"\n",
              "              title=\"Convert this dataframe to an interactive table.\"\n",
              "              style=\"display:none;\">\n",
              "        \n",
              "  <svg xmlns=\"http://www.w3.org/2000/svg\" height=\"24px\"viewBox=\"0 0 24 24\"\n",
              "       width=\"24px\">\n",
              "    <path d=\"M0 0h24v24H0V0z\" fill=\"none\"/>\n",
              "    <path d=\"M18.56 5.44l.94 2.06.94-2.06 2.06-.94-2.06-.94-.94-2.06-.94 2.06-2.06.94zm-11 1L8.5 8.5l.94-2.06 2.06-.94-2.06-.94L8.5 2.5l-.94 2.06-2.06.94zm10 10l.94 2.06.94-2.06 2.06-.94-2.06-.94-.94-2.06-.94 2.06-2.06.94z\"/><path d=\"M17.41 7.96l-1.37-1.37c-.4-.4-.92-.59-1.43-.59-.52 0-1.04.2-1.43.59L10.3 9.45l-7.72 7.72c-.78.78-.78 2.05 0 2.83L4 21.41c.39.39.9.59 1.41.59.51 0 1.02-.2 1.41-.59l7.78-7.78 2.81-2.81c.8-.78.8-2.07 0-2.86zM5.41 20L4 18.59l7.72-7.72 1.47 1.35L5.41 20z\"/>\n",
              "  </svg>\n",
              "      </button>\n",
              "      \n",
              "  <style>\n",
              "    .colab-df-container {\n",
              "      display:flex;\n",
              "      flex-wrap:wrap;\n",
              "      gap: 12px;\n",
              "    }\n",
              "\n",
              "    .colab-df-convert {\n",
              "      background-color: #E8F0FE;\n",
              "      border: none;\n",
              "      border-radius: 50%;\n",
              "      cursor: pointer;\n",
              "      display: none;\n",
              "      fill: #1967D2;\n",
              "      height: 32px;\n",
              "      padding: 0 0 0 0;\n",
              "      width: 32px;\n",
              "    }\n",
              "\n",
              "    .colab-df-convert:hover {\n",
              "      background-color: #E2EBFA;\n",
              "      box-shadow: 0px 1px 2px rgba(60, 64, 67, 0.3), 0px 1px 3px 1px rgba(60, 64, 67, 0.15);\n",
              "      fill: #174EA6;\n",
              "    }\n",
              "\n",
              "    [theme=dark] .colab-df-convert {\n",
              "      background-color: #3B4455;\n",
              "      fill: #D2E3FC;\n",
              "    }\n",
              "\n",
              "    [theme=dark] .colab-df-convert:hover {\n",
              "      background-color: #434B5C;\n",
              "      box-shadow: 0px 1px 3px 1px rgba(0, 0, 0, 0.15);\n",
              "      filter: drop-shadow(0px 1px 2px rgba(0, 0, 0, 0.3));\n",
              "      fill: #FFFFFF;\n",
              "    }\n",
              "  </style>\n",
              "\n",
              "      <script>\n",
              "        const buttonEl =\n",
              "          document.querySelector('#df-2ed10be7-c9dc-4a26-a89f-2c3f03dfe186 button.colab-df-convert');\n",
              "        buttonEl.style.display =\n",
              "          google.colab.kernel.accessAllowed ? 'block' : 'none';\n",
              "\n",
              "        async function convertToInteractive(key) {\n",
              "          const element = document.querySelector('#df-2ed10be7-c9dc-4a26-a89f-2c3f03dfe186');\n",
              "          const dataTable =\n",
              "            await google.colab.kernel.invokeFunction('convertToInteractive',\n",
              "                                                     [key], {});\n",
              "          if (!dataTable) return;\n",
              "\n",
              "          const docLinkHtml = 'Like what you see? Visit the ' +\n",
              "            '<a target=\"_blank\" href=https://colab.research.google.com/notebooks/data_table.ipynb>data table notebook</a>'\n",
              "            + ' to learn more about interactive tables.';\n",
              "          element.innerHTML = '';\n",
              "          dataTable['output_type'] = 'display_data';\n",
              "          await google.colab.output.renderOutput(dataTable, element);\n",
              "          const docLink = document.createElement('div');\n",
              "          docLink.innerHTML = docLinkHtml;\n",
              "          element.appendChild(docLink);\n",
              "        }\n",
              "      </script>\n",
              "    </div>\n",
              "  </div>\n",
              "  "
            ]
          },
          "metadata": {},
          "execution_count": 31
        }
      ]
    },
    {
      "cell_type": "markdown",
      "id": "310bca4e-c1c2-4030-a427-ecda54601106",
      "metadata": {
        "id": "310bca4e-c1c2-4030-a427-ecda54601106"
      },
      "source": [
        "# Concatene todos os dataframes da lista"
      ]
    },
    {
      "cell_type": "code",
      "execution_count": 32,
      "id": "997a08ff-f355-40c1-9257-cf4a196517bd",
      "metadata": {
        "id": "997a08ff-f355-40c1-9257-cf4a196517bd"
      },
      "outputs": [],
      "source": [
        "candidaturas = pd.concat(lista_df, axis=0, ignore_index=True)"
      ]
    },
    {
      "cell_type": "code",
      "source": [
        "candidaturas.shape"
      ],
      "metadata": {
        "id": "_D18RaFCNCuz",
        "outputId": "2166cf47-9e4a-4128-ee50-e7b590c61f5c",
        "colab": {
          "base_uri": "https://localhost:8080/"
        }
      },
      "id": "_D18RaFCNCuz",
      "execution_count": 33,
      "outputs": [
        {
          "output_type": "execute_result",
          "data": {
            "text/plain": [
              "(1657, 71)"
            ]
          },
          "metadata": {},
          "execution_count": 33
        }
      ]
    },
    {
      "cell_type": "markdown",
      "id": "0c1bee1c-a55d-4152-98cd-471028d2d73a",
      "metadata": {
        "id": "0c1bee1c-a55d-4152-98cd-471028d2d73a"
      },
      "source": [
        "# Apresente 5 linhas aleatórias do dataframe"
      ]
    },
    {
      "cell_type": "code",
      "execution_count": 37,
      "id": "b7b7124c-f6fa-4d90-b157-88678e82076e",
      "metadata": {
        "id": "b7b7124c-f6fa-4d90-b157-88678e82076e",
        "outputId": "39c09c99-8659-4695-d8c2-2c92f75b8aec",
        "colab": {
          "base_uri": "https://localhost:8080/",
          "height": 560
        }
      },
      "outputs": [
        {
          "output_type": "execute_result",
          "data": {
            "text/plain": [
              "     DT_GERACAO HH_GERACAO  ANO_ELEICAO  CD_TIPO_ELEICAO    NM_TIPO_ELEICAO  \\\n",
              "653  22/08/2022   13:05:30         2022                2  ELEIÇÃO ORDINÁRIA   \n",
              "397  22/08/2022   13:05:30         2022                2  ELEIÇÃO ORDINÁRIA   \n",
              "221  22/08/2022   13:05:30         2022                2  ELEIÇÃO ORDINÁRIA   \n",
              "346  22/08/2022   13:05:30         2022                2  ELEIÇÃO ORDINÁRIA   \n",
              "917  22/08/2022   13:05:30         2022                2  ELEIÇÃO ORDINÁRIA   \n",
              "\n",
              "     NR_TURNO  CD_ELEICAO                      DS_ELEICAO  DT_ELEICAO  \\\n",
              "653         1         546  Eleições Gerais Estaduais 2022  02/10/2022   \n",
              "397         1         546  Eleições Gerais Estaduais 2022  02/10/2022   \n",
              "221         1         546  Eleições Gerais Estaduais 2022  02/10/2022   \n",
              "346         1         546  Eleições Gerais Estaduais 2022  02/10/2022   \n",
              "917         1         546  Eleições Gerais Estaduais 2022  02/10/2022   \n",
              "\n",
              "    TP_ABRANGENCIA  ...          NR_PROCESSO CD_SITUACAO_CANDIDATO_PLEITO  \\\n",
              "653       ESTADUAL  ...  6012593220226170000                          NaN   \n",
              "397       ESTADUAL  ...  6005275120226170000                          NaN   \n",
              "221       ESTADUAL  ...  6008419420226170000                          NaN   \n",
              "346       ESTADUAL  ...  6017650820226170000                          NaN   \n",
              "917       ESTADUAL  ...  6014836720226170000                          NaN   \n",
              "\n",
              "    DS_SITUACAO_CANDIDATO_PLEITO  CD_SITUACAO_CANDIDATO_URNA  \\\n",
              "653                          NaN                         NaN   \n",
              "397                          NaN                         NaN   \n",
              "221                          NaN                         NaN   \n",
              "346                          NaN                         NaN   \n",
              "917                          NaN                         NaN   \n",
              "\n",
              "    DS_SITUACAO_CANDIDATO_URNA  ST_CANDIDATO_INSERIDO_URNA  \\\n",
              "653                        NaN                         NÃO   \n",
              "397                        NaN                         NÃO   \n",
              "221                        NaN                         NÃO   \n",
              "346                        NaN                         NÃO   \n",
              "917                        NaN                         NÃO   \n",
              "\n",
              "     NM_TIPO_DESTINACAO_VOTOS CD_SITUACAO_CANDIDATO_TOT  \\\n",
              "653                       NaN                       NaN   \n",
              "397                       NaN                       NaN   \n",
              "221                       NaN                       NaN   \n",
              "346                       NaN                       NaN   \n",
              "917                       NaN                       NaN   \n",
              "\n",
              "    DS_SITUACAO_CANDIDATO_TOT ST_PREST_CONTAS  \n",
              "653                       NaN               N  \n",
              "397                       NaN               N  \n",
              "221                       NaN               N  \n",
              "346                       NaN               N  \n",
              "917                       NaN               N  \n",
              "\n",
              "[5 rows x 71 columns]"
            ],
            "text/html": [
              "\n",
              "  <div id=\"df-72156586-4a8b-4569-84e3-7fd57dcd0c71\">\n",
              "    <div class=\"colab-df-container\">\n",
              "      <div>\n",
              "<style scoped>\n",
              "    .dataframe tbody tr th:only-of-type {\n",
              "        vertical-align: middle;\n",
              "    }\n",
              "\n",
              "    .dataframe tbody tr th {\n",
              "        vertical-align: top;\n",
              "    }\n",
              "\n",
              "    .dataframe thead th {\n",
              "        text-align: right;\n",
              "    }\n",
              "</style>\n",
              "<table border=\"1\" class=\"dataframe\">\n",
              "  <thead>\n",
              "    <tr style=\"text-align: right;\">\n",
              "      <th></th>\n",
              "      <th>DT_GERACAO</th>\n",
              "      <th>HH_GERACAO</th>\n",
              "      <th>ANO_ELEICAO</th>\n",
              "      <th>CD_TIPO_ELEICAO</th>\n",
              "      <th>NM_TIPO_ELEICAO</th>\n",
              "      <th>NR_TURNO</th>\n",
              "      <th>CD_ELEICAO</th>\n",
              "      <th>DS_ELEICAO</th>\n",
              "      <th>DT_ELEICAO</th>\n",
              "      <th>TP_ABRANGENCIA</th>\n",
              "      <th>...</th>\n",
              "      <th>NR_PROCESSO</th>\n",
              "      <th>CD_SITUACAO_CANDIDATO_PLEITO</th>\n",
              "      <th>DS_SITUACAO_CANDIDATO_PLEITO</th>\n",
              "      <th>CD_SITUACAO_CANDIDATO_URNA</th>\n",
              "      <th>DS_SITUACAO_CANDIDATO_URNA</th>\n",
              "      <th>ST_CANDIDATO_INSERIDO_URNA</th>\n",
              "      <th>NM_TIPO_DESTINACAO_VOTOS</th>\n",
              "      <th>CD_SITUACAO_CANDIDATO_TOT</th>\n",
              "      <th>DS_SITUACAO_CANDIDATO_TOT</th>\n",
              "      <th>ST_PREST_CONTAS</th>\n",
              "    </tr>\n",
              "  </thead>\n",
              "  <tbody>\n",
              "    <tr>\n",
              "      <th>653</th>\n",
              "      <td>22/08/2022</td>\n",
              "      <td>13:05:30</td>\n",
              "      <td>2022</td>\n",
              "      <td>2</td>\n",
              "      <td>ELEIÇÃO ORDINÁRIA</td>\n",
              "      <td>1</td>\n",
              "      <td>546</td>\n",
              "      <td>Eleições Gerais Estaduais 2022</td>\n",
              "      <td>02/10/2022</td>\n",
              "      <td>ESTADUAL</td>\n",
              "      <td>...</td>\n",
              "      <td>6012593220226170000</td>\n",
              "      <td>NaN</td>\n",
              "      <td>NaN</td>\n",
              "      <td>NaN</td>\n",
              "      <td>NaN</td>\n",
              "      <td>NÃO</td>\n",
              "      <td>NaN</td>\n",
              "      <td>NaN</td>\n",
              "      <td>NaN</td>\n",
              "      <td>N</td>\n",
              "    </tr>\n",
              "    <tr>\n",
              "      <th>397</th>\n",
              "      <td>22/08/2022</td>\n",
              "      <td>13:05:30</td>\n",
              "      <td>2022</td>\n",
              "      <td>2</td>\n",
              "      <td>ELEIÇÃO ORDINÁRIA</td>\n",
              "      <td>1</td>\n",
              "      <td>546</td>\n",
              "      <td>Eleições Gerais Estaduais 2022</td>\n",
              "      <td>02/10/2022</td>\n",
              "      <td>ESTADUAL</td>\n",
              "      <td>...</td>\n",
              "      <td>6005275120226170000</td>\n",
              "      <td>NaN</td>\n",
              "      <td>NaN</td>\n",
              "      <td>NaN</td>\n",
              "      <td>NaN</td>\n",
              "      <td>NÃO</td>\n",
              "      <td>NaN</td>\n",
              "      <td>NaN</td>\n",
              "      <td>NaN</td>\n",
              "      <td>N</td>\n",
              "    </tr>\n",
              "    <tr>\n",
              "      <th>221</th>\n",
              "      <td>22/08/2022</td>\n",
              "      <td>13:05:30</td>\n",
              "      <td>2022</td>\n",
              "      <td>2</td>\n",
              "      <td>ELEIÇÃO ORDINÁRIA</td>\n",
              "      <td>1</td>\n",
              "      <td>546</td>\n",
              "      <td>Eleições Gerais Estaduais 2022</td>\n",
              "      <td>02/10/2022</td>\n",
              "      <td>ESTADUAL</td>\n",
              "      <td>...</td>\n",
              "      <td>6008419420226170000</td>\n",
              "      <td>NaN</td>\n",
              "      <td>NaN</td>\n",
              "      <td>NaN</td>\n",
              "      <td>NaN</td>\n",
              "      <td>NÃO</td>\n",
              "      <td>NaN</td>\n",
              "      <td>NaN</td>\n",
              "      <td>NaN</td>\n",
              "      <td>N</td>\n",
              "    </tr>\n",
              "    <tr>\n",
              "      <th>346</th>\n",
              "      <td>22/08/2022</td>\n",
              "      <td>13:05:30</td>\n",
              "      <td>2022</td>\n",
              "      <td>2</td>\n",
              "      <td>ELEIÇÃO ORDINÁRIA</td>\n",
              "      <td>1</td>\n",
              "      <td>546</td>\n",
              "      <td>Eleições Gerais Estaduais 2022</td>\n",
              "      <td>02/10/2022</td>\n",
              "      <td>ESTADUAL</td>\n",
              "      <td>...</td>\n",
              "      <td>6017650820226170000</td>\n",
              "      <td>NaN</td>\n",
              "      <td>NaN</td>\n",
              "      <td>NaN</td>\n",
              "      <td>NaN</td>\n",
              "      <td>NÃO</td>\n",
              "      <td>NaN</td>\n",
              "      <td>NaN</td>\n",
              "      <td>NaN</td>\n",
              "      <td>N</td>\n",
              "    </tr>\n",
              "    <tr>\n",
              "      <th>917</th>\n",
              "      <td>22/08/2022</td>\n",
              "      <td>13:05:30</td>\n",
              "      <td>2022</td>\n",
              "      <td>2</td>\n",
              "      <td>ELEIÇÃO ORDINÁRIA</td>\n",
              "      <td>1</td>\n",
              "      <td>546</td>\n",
              "      <td>Eleições Gerais Estaduais 2022</td>\n",
              "      <td>02/10/2022</td>\n",
              "      <td>ESTADUAL</td>\n",
              "      <td>...</td>\n",
              "      <td>6014836720226170000</td>\n",
              "      <td>NaN</td>\n",
              "      <td>NaN</td>\n",
              "      <td>NaN</td>\n",
              "      <td>NaN</td>\n",
              "      <td>NÃO</td>\n",
              "      <td>NaN</td>\n",
              "      <td>NaN</td>\n",
              "      <td>NaN</td>\n",
              "      <td>N</td>\n",
              "    </tr>\n",
              "  </tbody>\n",
              "</table>\n",
              "<p>5 rows × 71 columns</p>\n",
              "</div>\n",
              "      <button class=\"colab-df-convert\" onclick=\"convertToInteractive('df-72156586-4a8b-4569-84e3-7fd57dcd0c71')\"\n",
              "              title=\"Convert this dataframe to an interactive table.\"\n",
              "              style=\"display:none;\">\n",
              "        \n",
              "  <svg xmlns=\"http://www.w3.org/2000/svg\" height=\"24px\"viewBox=\"0 0 24 24\"\n",
              "       width=\"24px\">\n",
              "    <path d=\"M0 0h24v24H0V0z\" fill=\"none\"/>\n",
              "    <path d=\"M18.56 5.44l.94 2.06.94-2.06 2.06-.94-2.06-.94-.94-2.06-.94 2.06-2.06.94zm-11 1L8.5 8.5l.94-2.06 2.06-.94-2.06-.94L8.5 2.5l-.94 2.06-2.06.94zm10 10l.94 2.06.94-2.06 2.06-.94-2.06-.94-.94-2.06-.94 2.06-2.06.94z\"/><path d=\"M17.41 7.96l-1.37-1.37c-.4-.4-.92-.59-1.43-.59-.52 0-1.04.2-1.43.59L10.3 9.45l-7.72 7.72c-.78.78-.78 2.05 0 2.83L4 21.41c.39.39.9.59 1.41.59.51 0 1.02-.2 1.41-.59l7.78-7.78 2.81-2.81c.8-.78.8-2.07 0-2.86zM5.41 20L4 18.59l7.72-7.72 1.47 1.35L5.41 20z\"/>\n",
              "  </svg>\n",
              "      </button>\n",
              "      \n",
              "  <style>\n",
              "    .colab-df-container {\n",
              "      display:flex;\n",
              "      flex-wrap:wrap;\n",
              "      gap: 12px;\n",
              "    }\n",
              "\n",
              "    .colab-df-convert {\n",
              "      background-color: #E8F0FE;\n",
              "      border: none;\n",
              "      border-radius: 50%;\n",
              "      cursor: pointer;\n",
              "      display: none;\n",
              "      fill: #1967D2;\n",
              "      height: 32px;\n",
              "      padding: 0 0 0 0;\n",
              "      width: 32px;\n",
              "    }\n",
              "\n",
              "    .colab-df-convert:hover {\n",
              "      background-color: #E2EBFA;\n",
              "      box-shadow: 0px 1px 2px rgba(60, 64, 67, 0.3), 0px 1px 3px 1px rgba(60, 64, 67, 0.15);\n",
              "      fill: #174EA6;\n",
              "    }\n",
              "\n",
              "    [theme=dark] .colab-df-convert {\n",
              "      background-color: #3B4455;\n",
              "      fill: #D2E3FC;\n",
              "    }\n",
              "\n",
              "    [theme=dark] .colab-df-convert:hover {\n",
              "      background-color: #434B5C;\n",
              "      box-shadow: 0px 1px 3px 1px rgba(0, 0, 0, 0.15);\n",
              "      filter: drop-shadow(0px 1px 2px rgba(0, 0, 0, 0.3));\n",
              "      fill: #FFFFFF;\n",
              "    }\n",
              "  </style>\n",
              "\n",
              "      <script>\n",
              "        const buttonEl =\n",
              "          document.querySelector('#df-72156586-4a8b-4569-84e3-7fd57dcd0c71 button.colab-df-convert');\n",
              "        buttonEl.style.display =\n",
              "          google.colab.kernel.accessAllowed ? 'block' : 'none';\n",
              "\n",
              "        async function convertToInteractive(key) {\n",
              "          const element = document.querySelector('#df-72156586-4a8b-4569-84e3-7fd57dcd0c71');\n",
              "          const dataTable =\n",
              "            await google.colab.kernel.invokeFunction('convertToInteractive',\n",
              "                                                     [key], {});\n",
              "          if (!dataTable) return;\n",
              "\n",
              "          const docLinkHtml = 'Like what you see? Visit the ' +\n",
              "            '<a target=\"_blank\" href=https://colab.research.google.com/notebooks/data_table.ipynb>data table notebook</a>'\n",
              "            + ' to learn more about interactive tables.';\n",
              "          element.innerHTML = '';\n",
              "          dataTable['output_type'] = 'display_data';\n",
              "          await google.colab.output.renderOutput(dataTable, element);\n",
              "          const docLink = document.createElement('div');\n",
              "          docLink.innerHTML = docLinkHtml;\n",
              "          element.appendChild(docLink);\n",
              "        }\n",
              "      </script>\n",
              "    </div>\n",
              "  </div>\n",
              "  "
            ]
          },
          "metadata": {},
          "execution_count": 37
        }
      ],
      "source": [
        "candidaturas.sample(5)"
      ]
    },
    {
      "cell_type": "markdown",
      "id": "a8238419-ff3d-4f00-bc36-ad1f4da01920",
      "metadata": {
        "id": "a8238419-ff3d-4f00-bc36-ad1f4da01920"
      },
      "source": [
        "# Quantas candidaturas estão em situação de reeleição?"
      ]
    },
    {
      "cell_type": "code",
      "execution_count": 39,
      "id": "28055dde-c74b-403e-bcc3-deb82a828084",
      "metadata": {
        "id": "28055dde-c74b-403e-bcc3-deb82a828084",
        "outputId": "51a82d88-3c66-4071-fb7e-a7f53cbdcd3d",
        "colab": {
          "base_uri": "https://localhost:8080/"
        }
      },
      "outputs": [
        {
          "output_type": "stream",
          "name": "stdout",
          "text": [
            "<class 'pandas.core.frame.DataFrame'>\n",
            "RangeIndex: 1657 entries, 0 to 1656\n",
            "Data columns (total 71 columns):\n",
            " #   Column                         Non-Null Count  Dtype  \n",
            "---  ------                         --------------  -----  \n",
            " 0   DT_GERACAO                     1657 non-null   object \n",
            " 1   HH_GERACAO                     1657 non-null   object \n",
            " 2   ANO_ELEICAO                    1657 non-null   int64  \n",
            " 3   CD_TIPO_ELEICAO                1657 non-null   int64  \n",
            " 4   NM_TIPO_ELEICAO                1657 non-null   object \n",
            " 5   NR_TURNO                       1657 non-null   int64  \n",
            " 6   CD_ELEICAO                     1657 non-null   int64  \n",
            " 7   DS_ELEICAO                     1657 non-null   object \n",
            " 8   DT_ELEICAO                     1657 non-null   object \n",
            " 9   TP_ABRANGENCIA                 1657 non-null   object \n",
            " 10  SG_UF                          1657 non-null   object \n",
            " 11  SG_UE                          1657 non-null   object \n",
            " 12  NM_UE                          1657 non-null   object \n",
            " 13  CD_CARGO                       1657 non-null   int64  \n",
            " 14  DS_CARGO                       1657 non-null   object \n",
            " 15  SQ_CANDIDATO                   1657 non-null   int64  \n",
            " 16  NR_CANDIDATO                   1657 non-null   int64  \n",
            " 17  NM_CANDIDATO                   1657 non-null   object \n",
            " 18  NM_URNA_CANDIDATO              1657 non-null   object \n",
            " 19  NM_SOCIAL_CANDIDATO            1 non-null      object \n",
            " 20  NR_CPF_CANDIDATO               1657 non-null   int64  \n",
            " 21  NM_EMAIL                       1657 non-null   object \n",
            " 22  CD_SITUACAO_CANDIDATURA        1657 non-null   int64  \n",
            " 23  DS_SITUACAO_CANDIDATURA        1657 non-null   object \n",
            " 24  CD_DETALHE_SITUACAO_CAND       1657 non-null   int64  \n",
            " 25  DS_DETALHE_SITUACAO_CAND       1657 non-null   object \n",
            " 26  TP_AGREMIACAO                  1657 non-null   object \n",
            " 27  NR_PARTIDO                     1657 non-null   int64  \n",
            " 28  SG_PARTIDO                     1657 non-null   object \n",
            " 29  NM_PARTIDO                     1657 non-null   object \n",
            " 30  NR_FEDERACAO                   299 non-null    float64\n",
            " 31  NM_FEDERACAO                   299 non-null    object \n",
            " 32  SG_FEDERACAO                   299 non-null    object \n",
            " 33  DS_COMPOSICAO_FEDERACAO        299 non-null    object \n",
            " 34  SQ_COLIGACAO                   1657 non-null   int64  \n",
            " 35  NM_COLIGACAO                   1657 non-null   object \n",
            " 36  DS_COMPOSICAO_COLIGACAO        1657 non-null   object \n",
            " 37  CD_NACIONALIDADE               1657 non-null   int64  \n",
            " 38  DS_NACIONALIDADE               1657 non-null   object \n",
            " 39  SG_UF_NASCIMENTO               1657 non-null   object \n",
            " 40  CD_MUNICIPIO_NASCIMENTO        1657 non-null   int64  \n",
            " 41  NM_MUNICIPIO_NASCIMENTO        1657 non-null   object \n",
            " 42  DT_NASCIMENTO                  1657 non-null   object \n",
            " 43  NR_IDADE_DATA_POSSE            1657 non-null   int64  \n",
            " 44  NR_TITULO_ELEITORAL_CANDIDATO  1657 non-null   int64  \n",
            " 45  CD_GENERO                      1657 non-null   int64  \n",
            " 46  DS_GENERO                      1657 non-null   object \n",
            " 47  CD_GRAU_INSTRUCAO              1657 non-null   int64  \n",
            " 48  DS_GRAU_INSTRUCAO              1657 non-null   object \n",
            " 49  CD_ESTADO_CIVIL                1657 non-null   int64  \n",
            " 50  DS_ESTADO_CIVIL                1657 non-null   object \n",
            " 51  CD_COR_RACA                    1657 non-null   int64  \n",
            " 52  DS_COR_RACA                    1657 non-null   object \n",
            " 53  CD_OCUPACAO                    1657 non-null   int64  \n",
            " 54  DS_OCUPACAO                    1657 non-null   object \n",
            " 55  VR_DESPESA_MAX_CAMPANHA        1598 non-null   float64\n",
            " 56  CD_SIT_TOT_TURNO               0 non-null      float64\n",
            " 57  DS_SIT_TOT_TURNO               0 non-null      float64\n",
            " 58  ST_REELEICAO                   1657 non-null   object \n",
            " 59  ST_DECLARAR_BENS               1657 non-null   object \n",
            " 60  NR_PROTOCOLO_CANDIDATURA       0 non-null      float64\n",
            " 61  NR_PROCESSO                    1657 non-null   int64  \n",
            " 62  CD_SITUACAO_CANDIDATO_PLEITO   0 non-null      float64\n",
            " 63  DS_SITUACAO_CANDIDATO_PLEITO   0 non-null      float64\n",
            " 64  CD_SITUACAO_CANDIDATO_URNA     0 non-null      float64\n",
            " 65  DS_SITUACAO_CANDIDATO_URNA     0 non-null      float64\n",
            " 66  ST_CANDIDATO_INSERIDO_URNA     1657 non-null   object \n",
            " 67  NM_TIPO_DESTINACAO_VOTOS       0 non-null      float64\n",
            " 68  CD_SITUACAO_CANDIDATO_TOT      0 non-null      float64\n",
            " 69  DS_SITUACAO_CANDIDATO_TOT      0 non-null      float64\n",
            " 70  ST_PREST_CONTAS                1657 non-null   object \n",
            "dtypes: float64(12), int64(22), object(37)\n",
            "memory usage: 919.2+ KB\n"
          ]
        }
      ],
      "source": [
        "candidaturas.info()"
      ]
    },
    {
      "cell_type": "code",
      "source": [
        "candidaturas['ST_REELEICAO'].unique()"
      ],
      "metadata": {
        "id": "Aj6uDnisOUtk",
        "outputId": "fab6962a-41e9-4636-a52b-a3fcf913d103",
        "colab": {
          "base_uri": "https://localhost:8080/"
        }
      },
      "id": "Aj6uDnisOUtk",
      "execution_count": 40,
      "outputs": [
        {
          "output_type": "execute_result",
          "data": {
            "text/plain": [
              "array(['N', 'S'], dtype=object)"
            ]
          },
          "metadata": {},
          "execution_count": 40
        }
      ]
    },
    {
      "cell_type": "code",
      "source": [
        "candidaturas['ST_REELEICAO'].value_counts()"
      ],
      "metadata": {
        "id": "Vf_gRe3xOdMF",
        "outputId": "6fbfb912-3b86-4033-ee61-8448c13291a4",
        "colab": {
          "base_uri": "https://localhost:8080/"
        }
      },
      "id": "Vf_gRe3xOdMF",
      "execution_count": 41,
      "outputs": [
        {
          "output_type": "execute_result",
          "data": {
            "text/plain": [
              "N    1568\n",
              "S      89\n",
              "Name: ST_REELEICAO, dtype: int64"
            ]
          },
          "metadata": {},
          "execution_count": 41
        }
      ]
    },
    {
      "cell_type": "markdown",
      "source": [
        "# Quais cargos serão preenchidos nesse pleito?"
      ],
      "metadata": {
        "id": "HfLb9xtUOteR"
      },
      "id": "HfLb9xtUOteR"
    },
    {
      "cell_type": "code",
      "source": [
        "candidaturas['DS_CARGO'].unique()"
      ],
      "metadata": {
        "id": "PJmfQyQ4OtDo",
        "outputId": "231d33bf-05a2-4d07-f24a-4f1c1af265b0",
        "colab": {
          "base_uri": "https://localhost:8080/"
        }
      },
      "id": "PJmfQyQ4OtDo",
      "execution_count": 42,
      "outputs": [
        {
          "output_type": "execute_result",
          "data": {
            "text/plain": [
              "array(['DEPUTADO ESTADUAL', 'DEPUTADO FEDERAL', 'VICE-GOVERNADOR',\n",
              "       'GOVERNADOR', '1º SUPLENTE', 'SENADOR', '2º SUPLENTE'],\n",
              "      dtype=object)"
            ]
          },
          "metadata": {},
          "execution_count": 42
        }
      ]
    },
    {
      "cell_type": "markdown",
      "id": "7cd5434f-9c0d-4fb6-a3ef-ce44498fea2e",
      "metadata": {
        "id": "7cd5434f-9c0d-4fb6-a3ef-ce44498fea2e"
      },
      "source": [
        "# Liste todas a ocupações declaradas pelas candidaturas a Câmara de Deputados Federal"
      ]
    },
    {
      "cell_type": "code",
      "execution_count": 46,
      "id": "ef30c1ab-703f-4c65-8ba5-1cde6c183f88",
      "metadata": {
        "id": "ef30c1ab-703f-4c65-8ba5-1cde6c183f88"
      },
      "outputs": [],
      "source": [
        "candidaturas_dep_fed = candidaturas[candidaturas[\"DS_CARGO\"] == \"DEPUTADO FEDERAL\"].copy()"
      ]
    },
    {
      "cell_type": "code",
      "source": [
        "candidaturas_dep_fed['DS_CARGO'].unique()"
      ],
      "metadata": {
        "id": "H0oeRhNpPtE7",
        "outputId": "fff4f565-c8af-4caa-ee74-c278a7bea3ba",
        "colab": {
          "base_uri": "https://localhost:8080/"
        }
      },
      "id": "H0oeRhNpPtE7",
      "execution_count": 48,
      "outputs": [
        {
          "output_type": "execute_result",
          "data": {
            "text/plain": [
              "array(['DEPUTADO FEDERAL'], dtype=object)"
            ]
          },
          "metadata": {},
          "execution_count": 48
        }
      ]
    },
    {
      "cell_type": "code",
      "source": [
        "candidaturas_dep_fed['DS_OCUPACAO'].unique()"
      ],
      "metadata": {
        "id": "bDN4uuLaQQT-",
        "outputId": "cb009b67-c44a-4ef6-9d98-bfc55d236bf2",
        "colab": {
          "base_uri": "https://localhost:8080/"
        }
      },
      "id": "bDN4uuLaQQT-",
      "execution_count": 49,
      "outputs": [
        {
          "output_type": "execute_result",
          "data": {
            "text/plain": [
              "array(['ADVOGADO', 'DIGITADOR', 'COMERCIANTE', 'ENFERMEIRO', 'DEPUTADO',\n",
              "       'OUTROS', 'SERVIDOR PÚBLICO ESTADUAL',\n",
              "       'ESTUDANTE, BOLSISTA, ESTAGIÁRIO E ASSEMELHADOS', 'EMPRESÁRIO',\n",
              "       'CANTOR E COMPOSITOR', 'OCEANÓGRAFO', 'POLICIAL MILITAR',\n",
              "       'AGENTE ADMINISTRATIVO', 'APOSENTADO (EXCETO SERVIDOR PÚBLICO)',\n",
              "       'ADMINISTRADOR', 'MÉDICO', 'PRODUTOR DE ESPETÁCULOS PÚBLICOS',\n",
              "       'POLICIAL CIVIL', 'AUXILIAR DE ESCRITÓRIO E ASSEMELHADOS',\n",
              "       'AGRICULTOR', 'ASSISTENTE SOCIAL', 'PROFESSOR DE ENSINO MÉDIO',\n",
              "       'JORNALISTA E REDATOR', 'TRABALHADOR RURAL',\n",
              "       'VENDEDOR DE COMÉRCIO VAREJISTA E ATACADISTA',\n",
              "       'PROFESSOR DE ENSINO FUNDAMENTAL',\n",
              "       'SERVIDOR PÚBLICO CIVIL APOSENTADO', 'ENGENHEIRO',\n",
              "       'SERVIDOR PÚBLICO MUNICIPAL', 'CONTADOR',\n",
              "       'PORTEIRO DE EDIFÍCIO, ASCENSORISTA, GARAGISTA E ZELADOR',\n",
              "       'VENDEDOR PRACISTA, REPRESENTANTE, CAIXEIRO-VIAJANTE E ASSEMELHADOS',\n",
              "       'DONA DE CASA', 'VEREADOR', 'MILITAR REFORMADO',\n",
              "       'LOCUTOR E COMENTARISTA DE RÁDIO E TELEVISÃO E RADIALISTA',\n",
              "       'ODONTÓLOGO', 'CORRETOR DE IMÓVEIS, SEGUROS, TÍTULOS E VALORES',\n",
              "       'RELAÇÕES-PÚBLICAS',\n",
              "       'SUPERVISOR, INSPETOR E AGENTE DE COMPRAS E VENDAS', 'VIGILANTE',\n",
              "       'PROFESSOR DE ENSINO SUPERIOR', 'SERVIDOR PÚBLICO FEDERAL',\n",
              "       'TÉCNICO DE ELETRICIDADE, ELETRÔNICA E TELECOMUNICAÇÕES',\n",
              "       'ASTRÔNOMO', 'ECONOMISTA', 'GARI OU LIXEIRO',\n",
              "       'TRABALHADOR DOS SERVIÇOS DE CONTABILIDADE, DE CAIXA E ASSEMELHADOS',\n",
              "       'BANCÁRIO E ECONOMIÁRIO', 'ARQUITETO', 'CABELEIREIRO E BARBEIRO',\n",
              "       'ATOR E DIRETOR DE ESPETÁCULOS PÚBLICOS', 'DEMONSTRADOR',\n",
              "       'MOTORISTA DE VEÍCULOS DE TRANSPORTE DE CARGA', 'PECUARISTA',\n",
              "       'BOMBEIRO MILITAR', 'MEMBRO DAS FORÇAS ARMADAS',\n",
              "       'ELETRICISTA E ASSEMELHADOS',\n",
              "       'TÉCNICO DE ENFERMAGEM E ASSEMELHADOS (EXCETO ENFERMEIRO)',\n",
              "       'BOMBEIRO CIVIL', 'REPRESENTANTE COMERCIAL',\n",
              "       'FISIOTERAPEUTA E TERAPEUTA OCUPACIONAL',\n",
              "       'OPERADOR DE APARELHOS DE PRODUÇÃO INDUSTRIAL', 'COZINHEIRO',\n",
              "       'ANALISTA DE SISTEMAS', 'GERENTE', 'PUBLICITÁRIO',\n",
              "       'ATLETA PROFISSIONAL E TÉCNICO EM DESPORTOS',\n",
              "       'EMPREGADO DOMÉSTICO', 'MÚSICO', 'MOTORISTA PARTICULAR',\n",
              "       'SECRETÁRIO,ESTENÓGRAFO,DATILÓGRAFO,RECEPCIONISTA,TELEFONISTA,TAQUÍGRAF',\n",
              "       'PROFESSOR E INSTRUTOR DE FORMAÇÃO PROFISSIONAL',\n",
              "       'CIENTISTA POLÍTICO', 'ALFAIATE E COSTUREIRO',\n",
              "       'TÉCNICO EM INFORMÁTICA',\n",
              "       'PORTEIRO DE EDIFÍCIO, ASCENSORISTA, GARAGISTA, FAXINEIRO E ZELADOR',\n",
              "       'PEDAGOGO', 'AGENTE DE VIAGEM', 'TAXISTA E MOTORISTA PARTICULAR',\n",
              "       'PROFESSOR DE ENSINO DE PRIMEIRO E SEGUNDO GRAUS', 'SOCIÓLOGO',\n",
              "       'MOTORISTA DE VEÍCULOS DE TRANSPORTE COLETIVO DE PASSAGEIROS',\n",
              "       'GARÇOM', 'TRABALHADOR DE FABRICAÇÃO DE ROUPAS'], dtype=object)"
            ]
          },
          "metadata": {},
          "execution_count": 49
        }
      ]
    },
    {
      "cell_type": "code",
      "source": [
        "candidaturas_dep_fed['DS_OCUPACAO'].value_counts(dropna=True)"
      ],
      "metadata": {
        "id": "53EnvTkFRcOt",
        "outputId": "b8e1d4a2-687e-411f-f277-e2a9b0df7569",
        "colab": {
          "base_uri": "https://localhost:8080/"
        }
      },
      "id": "53EnvTkFRcOt",
      "execution_count": 52,
      "outputs": [
        {
          "output_type": "execute_result",
          "data": {
            "text/plain": [
              "OUTROS                                                      127\n",
              "EMPRESÁRIO                                                   68\n",
              "ADVOGADO                                                     50\n",
              "DEPUTADO                                                     28\n",
              "MÉDICO                                                       25\n",
              "                                                           ... \n",
              "ELETRICISTA E ASSEMELHADOS                                    1\n",
              "TÉCNICO DE ENFERMAGEM E ASSEMELHADOS (EXCETO ENFERMEIRO)      1\n",
              "BOMBEIRO CIVIL                                                1\n",
              "OPERADOR DE APARELHOS DE PRODUÇÃO INDUSTRIAL                  1\n",
              "TRABALHADOR DE FABRICAÇÃO DE ROUPAS                           1\n",
              "Name: DS_OCUPACAO, Length: 85, dtype: int64"
            ]
          },
          "metadata": {},
          "execution_count": 52
        }
      ]
    },
    {
      "cell_type": "markdown",
      "id": "f92cd033-7c9a-47ac-acad-d5db0035e6ff",
      "metadata": {
        "id": "f92cd033-7c9a-47ac-acad-d5db0035e6ff"
      },
      "source": [
        "# Quantos anos tería a pessoa candidata mais velha no ato da posse?"
      ]
    },
    {
      "cell_type": "code",
      "execution_count": 53,
      "id": "53b023a1-812e-4587-897d-703bf0a2a746",
      "metadata": {
        "id": "53b023a1-812e-4587-897d-703bf0a2a746",
        "outputId": "02a24799-3481-4876-f2f3-e91c2312ccbd",
        "colab": {
          "base_uri": "https://localhost:8080/"
        }
      },
      "outputs": [
        {
          "output_type": "execute_result",
          "data": {
            "text/plain": [
              "85"
            ]
          },
          "metadata": {},
          "execution_count": 53
        }
      ],
      "source": [
        "candidaturas['NR_IDADE_DATA_POSSE'].max() "
      ]
    },
    {
      "cell_type": "markdown",
      "id": "de5c48c3-c0b9-418c-bba2-bb20c5312bd8",
      "metadata": {
        "id": "de5c48c3-c0b9-418c-bba2-bb20c5312bd8"
      },
      "source": [
        "# Quantos anos tería a pessoa candidata mais jovem no ato da posse?"
      ]
    },
    {
      "cell_type": "code",
      "execution_count": 54,
      "id": "19c454cb-784f-48ab-8a82-61343b045bb8",
      "metadata": {
        "id": "19c454cb-784f-48ab-8a82-61343b045bb8",
        "outputId": "935392e5-818a-485a-d431-62e7c9b0c9d0",
        "colab": {
          "base_uri": "https://localhost:8080/"
        }
      },
      "outputs": [
        {
          "output_type": "execute_result",
          "data": {
            "text/plain": [
              "18"
            ]
          },
          "metadata": {},
          "execution_count": 54
        }
      ],
      "source": [
        "candidaturas['NR_IDADE_DATA_POSSE'].min() "
      ]
    },
    {
      "cell_type": "markdown",
      "id": "f18ae4e7-ccca-4152-9971-65c543847936",
      "metadata": {
        "id": "f18ae4e7-ccca-4152-9971-65c543847936"
      },
      "source": [
        "# Qual é o nome da pessoa candidata mais velha?\n",
        "\n"
      ]
    },
    {
      "cell_type": "code",
      "execution_count": 58,
      "id": "c7059bae-72e9-4c4b-ae70-71c9085b2a1f",
      "metadata": {
        "id": "c7059bae-72e9-4c4b-ae70-71c9085b2a1f"
      },
      "outputs": [],
      "source": [
        "candidata_mais_velha = candidaturas[candidaturas['NR_IDADE_DATA_POSSE'] == 85]['NM_CANDIDATO']"
      ]
    },
    {
      "cell_type": "code",
      "source": [
        "candidata_mais_velha"
      ],
      "metadata": {
        "id": "7vyAwrEkTcaS",
        "outputId": "9e8f0da2-827f-43f5-bec9-a4c74031a449",
        "colab": {
          "base_uri": "https://localhost:8080/"
        }
      },
      "id": "7vyAwrEkTcaS",
      "execution_count": 59,
      "outputs": [
        {
          "output_type": "execute_result",
          "data": {
            "text/plain": [
              "972    JOSÉ MARIANO DA SILVA\n",
              "Name: NM_CANDIDATO, dtype: object"
            ]
          },
          "metadata": {},
          "execution_count": 59
        }
      ]
    },
    {
      "cell_type": "markdown",
      "source": [
        "# Qual é o nome da pessoa candidata mais jovem?"
      ],
      "metadata": {
        "id": "rRGKJ6yKUROk"
      },
      "id": "rRGKJ6yKUROk"
    },
    {
      "cell_type": "code",
      "source": [
        "candidata_mais_jovem = candidaturas[candidaturas['NR_IDADE_DATA_POSSE'] == 18]['NM_CANDIDATO']"
      ],
      "metadata": {
        "id": "C9ndWuLJT8OZ"
      },
      "id": "C9ndWuLJT8OZ",
      "execution_count": 64,
      "outputs": []
    },
    {
      "cell_type": "code",
      "source": [
        "candidata_mais_jovem"
      ],
      "metadata": {
        "id": "soMY8WrsUBaD",
        "outputId": "3060ed1d-8a14-4117-8ef3-71b6a06f942b",
        "colab": {
          "base_uri": "https://localhost:8080/"
        }
      },
      "id": "soMY8WrsUBaD",
      "execution_count": 66,
      "outputs": [
        {
          "output_type": "execute_result",
          "data": {
            "text/plain": [
              "1040    PAMELA KATHELLEN SILVA MENDES\n",
              "Name: NM_CANDIDATO, dtype: object"
            ]
          },
          "metadata": {},
          "execution_count": 66
        }
      ]
    },
    {
      "cell_type": "markdown",
      "id": "f6ddfb4c-7012-4f0b-befb-f44cde4c06a8",
      "metadata": {
        "id": "f6ddfb4c-7012-4f0b-befb-f44cde4c06a8"
      },
      "source": [
        "# Quantas candidaturas existem para \"Deputado federal\" seu estado?"
      ]
    },
    {
      "cell_type": "code",
      "source": [
        "candidaturas_pe = candidaturas[(candidaturas['SG_UF'] == 'PE') & (candidaturas[\"DS_CARGO\"] == \"DEPUTADO FEDERAL\")]"
      ],
      "metadata": {
        "id": "b7r4KavPVdO1"
      },
      "id": "b7r4KavPVdO1",
      "execution_count": 80,
      "outputs": []
    },
    {
      "cell_type": "code",
      "source": [
        "candidaturas_pe = candidaturas_pe.shape[0]"
      ],
      "metadata": {
        "id": "WOqJvf1HV7m1"
      },
      "id": "WOqJvf1HV7m1",
      "execution_count": 77,
      "outputs": []
    },
    {
      "cell_type": "code",
      "execution_count": 70,
      "id": "ae815f6f-7403-4067-af0b-175b21f45172",
      "metadata": {
        "id": "ae815f6f-7403-4067-af0b-175b21f45172"
      },
      "outputs": [],
      "source": [
        "total_cand_dep_federal = candidaturas_dep_fed.shape[0]"
      ]
    },
    {
      "cell_type": "code",
      "source": [
        "print(f'No pleito de 2022 nos estados de Pernambuco e Rio Grande do Norte existem {total_cand_dep_federal} pessoas candidatas a Câmara de Deputados Federal, sendo {candidaturas_pe} em Pernambuco e {total_cand_dep_federal-candidaturas_pe} no Rio Grande do Norte')"
      ],
      "metadata": {
        "id": "C7kfQQrDUuig",
        "outputId": "d625e132-02bb-4e68-88fe-5a4c916dd994",
        "colab": {
          "base_uri": "https://localhost:8080/"
        }
      },
      "id": "C7kfQQrDUuig",
      "execution_count": 78,
      "outputs": [
        {
          "output_type": "stream",
          "name": "stdout",
          "text": [
            "No pleito de 2022 nos estados de Pernambuco e Rio Grande do Norte existem 647 pessoas candidatas a Câmara de Deputados Federal, sendo 463 em Pernambuco e 184 no Rio Grande do Norte\n"
          ]
        }
      ]
    },
    {
      "cell_type": "markdown",
      "id": "6658e4f9-9271-4f0e-b6f8-575e33e5d8c9",
      "metadata": {
        "id": "6658e4f9-9271-4f0e-b6f8-575e33e5d8c9"
      },
      "source": [
        "# Qual é a média do valor máximo de despesas de campanha?"
      ]
    },
    {
      "cell_type": "code",
      "execution_count": 81,
      "id": "1b8283db-c218-44cd-908b-e4a2f041a435",
      "metadata": {
        "id": "1b8283db-c218-44cd-908b-e4a2f041a435"
      },
      "outputs": [],
      "source": [
        "soma_despesas = candidaturas['VR_DESPESA_MAX_CAMPANHA'].sum()"
      ]
    },
    {
      "cell_type": "code",
      "source": [
        "qnt_candidaturas = candidaturas.shape[0]"
      ],
      "metadata": {
        "id": "3Xp5SeqBYFfg"
      },
      "id": "3Xp5SeqBYFfg",
      "execution_count": 82,
      "outputs": []
    },
    {
      "cell_type": "code",
      "source": [
        "media = soma_despesas/qnt_candidaturas"
      ],
      "metadata": {
        "id": "lzHV7-YxYJMx"
      },
      "id": "lzHV7-YxYJMx",
      "execution_count": 95,
      "outputs": []
    },
    {
      "cell_type": "code",
      "source": [
        "round(media,2)"
      ],
      "metadata": {
        "id": "R1Aod5MAYNwW",
        "outputId": "e48e91e5-9db9-4cee-a112-be06b6cbfeef",
        "colab": {
          "base_uri": "https://localhost:8080/"
        }
      },
      "id": "R1Aod5MAYNwW",
      "execution_count": 96,
      "outputs": [
        {
          "output_type": "execute_result",
          "data": {
            "text/plain": [
              "2102250.71"
            ]
          },
          "metadata": {},
          "execution_count": 96
        }
      ]
    },
    {
      "cell_type": "code",
      "source": [
        "round(candidaturas['VR_DESPESA_MAX_CAMPANHA'].mean(), 2) # a função mean realiza a operação apenas com as linhas que possuem valores preenchidos. Como podemos ver na série abaixo, das 1657 candidaturas, apenas 1598 declararam 'VR_DESPESA_MAX_CAMPANHA'"
      ],
      "metadata": {
        "id": "3G5NiNpnYRce",
        "outputId": "739f1ef9-7810-43a6-b880-eccd9b00fe53",
        "colab": {
          "base_uri": "https://localhost:8080/"
        }
      },
      "id": "3G5NiNpnYRce",
      "execution_count": 88,
      "outputs": [
        {
          "output_type": "execute_result",
          "data": {
            "text/plain": [
              "2179868.23"
            ]
          },
          "metadata": {},
          "execution_count": 88
        }
      ]
    },
    {
      "cell_type": "code",
      "source": [
        "candidaturas.info()"
      ],
      "metadata": {
        "id": "Um9bDPTJYb-N",
        "outputId": "d27d82bd-e0e5-4f95-e008-aa97d3f43a17",
        "colab": {
          "base_uri": "https://localhost:8080/"
        }
      },
      "id": "Um9bDPTJYb-N",
      "execution_count": 92,
      "outputs": [
        {
          "output_type": "stream",
          "name": "stdout",
          "text": [
            "<class 'pandas.core.frame.DataFrame'>\n",
            "RangeIndex: 1657 entries, 0 to 1656\n",
            "Data columns (total 71 columns):\n",
            " #   Column                         Non-Null Count  Dtype  \n",
            "---  ------                         --------------  -----  \n",
            " 0   DT_GERACAO                     1657 non-null   object \n",
            " 1   HH_GERACAO                     1657 non-null   object \n",
            " 2   ANO_ELEICAO                    1657 non-null   int64  \n",
            " 3   CD_TIPO_ELEICAO                1657 non-null   int64  \n",
            " 4   NM_TIPO_ELEICAO                1657 non-null   object \n",
            " 5   NR_TURNO                       1657 non-null   int64  \n",
            " 6   CD_ELEICAO                     1657 non-null   int64  \n",
            " 7   DS_ELEICAO                     1657 non-null   object \n",
            " 8   DT_ELEICAO                     1657 non-null   object \n",
            " 9   TP_ABRANGENCIA                 1657 non-null   object \n",
            " 10  SG_UF                          1657 non-null   object \n",
            " 11  SG_UE                          1657 non-null   object \n",
            " 12  NM_UE                          1657 non-null   object \n",
            " 13  CD_CARGO                       1657 non-null   int64  \n",
            " 14  DS_CARGO                       1657 non-null   object \n",
            " 15  SQ_CANDIDATO                   1657 non-null   int64  \n",
            " 16  NR_CANDIDATO                   1657 non-null   int64  \n",
            " 17  NM_CANDIDATO                   1657 non-null   object \n",
            " 18  NM_URNA_CANDIDATO              1657 non-null   object \n",
            " 19  NM_SOCIAL_CANDIDATO            1 non-null      object \n",
            " 20  NR_CPF_CANDIDATO               1657 non-null   int64  \n",
            " 21  NM_EMAIL                       1657 non-null   object \n",
            " 22  CD_SITUACAO_CANDIDATURA        1657 non-null   int64  \n",
            " 23  DS_SITUACAO_CANDIDATURA        1657 non-null   object \n",
            " 24  CD_DETALHE_SITUACAO_CAND       1657 non-null   int64  \n",
            " 25  DS_DETALHE_SITUACAO_CAND       1657 non-null   object \n",
            " 26  TP_AGREMIACAO                  1657 non-null   object \n",
            " 27  NR_PARTIDO                     1657 non-null   int64  \n",
            " 28  SG_PARTIDO                     1657 non-null   object \n",
            " 29  NM_PARTIDO                     1657 non-null   object \n",
            " 30  NR_FEDERACAO                   299 non-null    float64\n",
            " 31  NM_FEDERACAO                   299 non-null    object \n",
            " 32  SG_FEDERACAO                   299 non-null    object \n",
            " 33  DS_COMPOSICAO_FEDERACAO        299 non-null    object \n",
            " 34  SQ_COLIGACAO                   1657 non-null   int64  \n",
            " 35  NM_COLIGACAO                   1657 non-null   object \n",
            " 36  DS_COMPOSICAO_COLIGACAO        1657 non-null   object \n",
            " 37  CD_NACIONALIDADE               1657 non-null   int64  \n",
            " 38  DS_NACIONALIDADE               1657 non-null   object \n",
            " 39  SG_UF_NASCIMENTO               1657 non-null   object \n",
            " 40  CD_MUNICIPIO_NASCIMENTO        1657 non-null   int64  \n",
            " 41  NM_MUNICIPIO_NASCIMENTO        1657 non-null   object \n",
            " 42  DT_NASCIMENTO                  1657 non-null   object \n",
            " 43  NR_IDADE_DATA_POSSE            1657 non-null   int64  \n",
            " 44  NR_TITULO_ELEITORAL_CANDIDATO  1657 non-null   int64  \n",
            " 45  CD_GENERO                      1657 non-null   int64  \n",
            " 46  DS_GENERO                      1657 non-null   object \n",
            " 47  CD_GRAU_INSTRUCAO              1657 non-null   int64  \n",
            " 48  DS_GRAU_INSTRUCAO              1657 non-null   object \n",
            " 49  CD_ESTADO_CIVIL                1657 non-null   int64  \n",
            " 50  DS_ESTADO_CIVIL                1657 non-null   object \n",
            " 51  CD_COR_RACA                    1657 non-null   int64  \n",
            " 52  DS_COR_RACA                    1657 non-null   object \n",
            " 53  CD_OCUPACAO                    1657 non-null   int64  \n",
            " 54  DS_OCUPACAO                    1657 non-null   object \n",
            " 55  VR_DESPESA_MAX_CAMPANHA        1598 non-null   float64\n",
            " 56  CD_SIT_TOT_TURNO               0 non-null      float64\n",
            " 57  DS_SIT_TOT_TURNO               0 non-null      float64\n",
            " 58  ST_REELEICAO                   1657 non-null   object \n",
            " 59  ST_DECLARAR_BENS               1657 non-null   object \n",
            " 60  NR_PROTOCOLO_CANDIDATURA       0 non-null      float64\n",
            " 61  NR_PROCESSO                    1657 non-null   int64  \n",
            " 62  CD_SITUACAO_CANDIDATO_PLEITO   0 non-null      float64\n",
            " 63  DS_SITUACAO_CANDIDATO_PLEITO   0 non-null      float64\n",
            " 64  CD_SITUACAO_CANDIDATO_URNA     0 non-null      float64\n",
            " 65  DS_SITUACAO_CANDIDATO_URNA     0 non-null      float64\n",
            " 66  ST_CANDIDATO_INSERIDO_URNA     1657 non-null   object \n",
            " 67  NM_TIPO_DESTINACAO_VOTOS       0 non-null      float64\n",
            " 68  CD_SITUACAO_CANDIDATO_TOT      0 non-null      float64\n",
            " 69  DS_SITUACAO_CANDIDATO_TOT      0 non-null      float64\n",
            " 70  ST_PREST_CONTAS                1657 non-null   object \n",
            "dtypes: float64(12), int64(22), object(37)\n",
            "memory usage: 919.2+ KB\n"
          ]
        }
      ]
    },
    {
      "cell_type": "code",
      "source": [],
      "metadata": {
        "id": "tyDhnh6JZT2r"
      },
      "id": "tyDhnh6JZT2r",
      "execution_count": null,
      "outputs": []
    }
  ],
  "metadata": {
    "kernelspec": {
      "display_name": "Python 3 (ipykernel)",
      "language": "python",
      "name": "python3"
    },
    "language_info": {
      "codemirror_mode": {
        "name": "ipython",
        "version": 3
      },
      "file_extension": ".py",
      "mimetype": "text/x-python",
      "name": "python",
      "nbconvert_exporter": "python",
      "pygments_lexer": "ipython3",
      "version": "3.10.4"
    },
    "colab": {
      "provenance": []
    }
  },
  "nbformat": 4,
  "nbformat_minor": 5
}