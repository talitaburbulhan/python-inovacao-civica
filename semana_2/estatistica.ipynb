{
 "cells": [
  {
   "cell_type": "markdown",
   "id": "7734693e",
   "metadata": {},
   "source": [
    "# Escola de Dados - Python para inovação cívica\n",
    "## Módulo 1: Noções básicas de estatística descritiva e pré-processamento\n",
    "\n",
    "- [Aula 8](#Aula-8:-Introdução-a-estatística)\n",
    "- [Aula 9](#Aula-9:-Medidas-de-tendência-central-e-dispersão)\n",
    "- [Aula 10](#Aula-10:-Outliers-e-valores-faltantes)\n",
    "- [Aula 12](#Aula-12:-Operações-básicas-com-python)\n",
    "- [Aula 13](#Aula-13:-Métodos-`filter`-e-`sort_values`)\n",
    "- [Aula 14](#Aula-14:-Operações-com-dados-e-método-`apply`)\n",
    "- [Aula 15](#Aula-15:-Operações-com-dados-e-método-`groupby`)\n",
    "\n",
    "\n",
    "### Aula 8: Introdução a estatística\n",
    "\n",
    "Os dados que usaremos nesse notebook pode ser encontrado em: [TSE. Candidaturas em 2020](https://www.tse.jus.br/eleicoes/estatisticas/repositorio-de-dados-eleitorais-1).\n",
    "\n",
    "Trabalharemos com os dados referentes as candidaturas nos estados de Pernambuco e Rio Grande do Norte.\n"
   ]
  },
  {
   "cell_type": "code",
   "execution_count": 1,
   "id": "2d8c10dc",
   "metadata": {},
   "outputs": [],
   "source": [
    "import pandas as pd\n",
    "import glob"
   ]
  },
  {
   "cell_type": "code",
   "execution_count": 2,
   "id": "23db38e0",
   "metadata": {},
   "outputs": [],
   "source": [
    "dados_pe_rn = ['base_dados/consulta_cand_2020_PE.csv', 'base_dados/consulta_cand_2020_RN.csv']"
   ]
  },
  {
   "cell_type": "code",
   "execution_count": 3,
   "id": "d6c44eef",
   "metadata": {},
   "outputs": [],
   "source": [
    "lista_df = []\n",
    "\n",
    "for dados_estado in dados_pe_rn:\n",
    "    df_estado = pd.read_csv(dados_estado, sep=';', encoding='latin_1')\n",
    "    lista_df.append(df_estado)"
   ]
  },
  {
   "cell_type": "code",
   "execution_count": 4,
   "id": "31ddff3b",
   "metadata": {},
   "outputs": [],
   "source": [
    "df_completo = pd.concat(lista_df, axis=0, ignore_index=True)"
   ]
  },
  {
   "cell_type": "markdown",
   "id": "d4cc48d0",
   "metadata": {},
   "source": [
    "É possível criar um dataframe apenas com os dados de candidaturas para as Câmeras de Vereados dos estados."
   ]
  },
  {
   "cell_type": "code",
   "execution_count": 5,
   "id": "4e05d8d6",
   "metadata": {},
   "outputs": [],
   "source": [
    "df_vereadores = df_completo[df_completo['CD_CARGO'] == 13].copy()"
   ]
  },
  {
   "cell_type": "code",
   "execution_count": 6,
   "id": "2c80d4c0",
   "metadata": {},
   "outputs": [
    {
     "data": {
      "text/plain": [
       "Index(['DT_GERACAO', 'HH_GERACAO', 'ANO_ELEICAO', 'CD_TIPO_ELEICAO',\n",
       "       'NM_TIPO_ELEICAO', 'NR_TURNO', 'CD_ELEICAO', 'DS_ELEICAO', 'DT_ELEICAO',\n",
       "       'TP_ABRANGENCIA', 'SG_UF', 'SG_UE', 'NM_UE', 'CD_CARGO', 'DS_CARGO',\n",
       "       'SQ_CANDIDATO', 'NR_CANDIDATO', 'NM_CANDIDATO', 'NM_URNA_CANDIDATO',\n",
       "       'NM_SOCIAL_CANDIDATO', 'NR_CPF_CANDIDATO', 'NM_EMAIL',\n",
       "       'CD_SITUACAO_CANDIDATURA', 'DS_SITUACAO_CANDIDATURA',\n",
       "       'CD_DETALHE_SITUACAO_CAND', 'DS_DETALHE_SITUACAO_CAND', 'TP_AGREMIACAO',\n",
       "       'NR_PARTIDO', 'SG_PARTIDO', 'NM_PARTIDO', 'SQ_COLIGACAO',\n",
       "       'NM_COLIGACAO', 'DS_COMPOSICAO_COLIGACAO', 'CD_NACIONALIDADE',\n",
       "       'DS_NACIONALIDADE', 'SG_UF_NASCIMENTO', 'CD_MUNICIPIO_NASCIMENTO',\n",
       "       'NM_MUNICIPIO_NASCIMENTO', 'DT_NASCIMENTO', 'NR_IDADE_DATA_POSSE',\n",
       "       'NR_TITULO_ELEITORAL_CANDIDATO', 'CD_GENERO', 'DS_GENERO',\n",
       "       'CD_GRAU_INSTRUCAO', 'DS_GRAU_INSTRUCAO', 'CD_ESTADO_CIVIL',\n",
       "       'DS_ESTADO_CIVIL', 'CD_COR_RACA', 'DS_COR_RACA', 'CD_OCUPACAO',\n",
       "       'DS_OCUPACAO', 'VR_DESPESA_MAX_CAMPANHA', 'CD_SIT_TOT_TURNO',\n",
       "       'DS_SIT_TOT_TURNO', 'ST_REELEICAO', 'ST_DECLARAR_BENS',\n",
       "       'NR_PROTOCOLO_CANDIDATURA', 'NR_PROCESSO',\n",
       "       'CD_SITUACAO_CANDIDATO_PLEITO', 'DS_SITUACAO_CANDIDATO_PLEITO',\n",
       "       'CD_SITUACAO_CANDIDATO_URNA', 'DS_SITUACAO_CANDIDATO_URNA',\n",
       "       'ST_CANDIDATO_INSERIDO_URNA'],\n",
       "      dtype='object')"
      ]
     },
     "execution_count": 6,
     "metadata": {},
     "output_type": "execute_result"
    }
   ],
   "source": [
    "df_vereadores.columns"
   ]
  },
  {
   "cell_type": "markdown",
   "id": "5dca9125",
   "metadata": {},
   "source": [
    "O método `pd.describe` traz um quadro com algumas medidas da estatística descritiva, como as medidas de tendência central, medidas de dispersão e quartis, excluindo os valores NaN (not a number)."
   ]
  },
  {
   "cell_type": "code",
   "execution_count": 7,
   "id": "979940fa",
   "metadata": {},
   "outputs": [
    {
     "data": {
      "text/html": [
       "<div>\n",
       "<style scoped>\n",
       "    .dataframe tbody tr th:only-of-type {\n",
       "        vertical-align: middle;\n",
       "    }\n",
       "\n",
       "    .dataframe tbody tr th {\n",
       "        vertical-align: top;\n",
       "    }\n",
       "\n",
       "    .dataframe thead th {\n",
       "        text-align: right;\n",
       "    }\n",
       "</style>\n",
       "<table border=\"1\" class=\"dataframe\">\n",
       "  <thead>\n",
       "    <tr style=\"text-align: right;\">\n",
       "      <th></th>\n",
       "      <th>ANO_ELEICAO</th>\n",
       "      <th>CD_TIPO_ELEICAO</th>\n",
       "      <th>NR_TURNO</th>\n",
       "      <th>CD_ELEICAO</th>\n",
       "      <th>SG_UE</th>\n",
       "      <th>CD_CARGO</th>\n",
       "      <th>SQ_CANDIDATO</th>\n",
       "      <th>NR_CANDIDATO</th>\n",
       "      <th>NR_CPF_CANDIDATO</th>\n",
       "      <th>CD_SITUACAO_CANDIDATURA</th>\n",
       "      <th>...</th>\n",
       "      <th>CD_GRAU_INSTRUCAO</th>\n",
       "      <th>CD_ESTADO_CIVIL</th>\n",
       "      <th>CD_COR_RACA</th>\n",
       "      <th>CD_OCUPACAO</th>\n",
       "      <th>VR_DESPESA_MAX_CAMPANHA</th>\n",
       "      <th>CD_SIT_TOT_TURNO</th>\n",
       "      <th>NR_PROTOCOLO_CANDIDATURA</th>\n",
       "      <th>NR_PROCESSO</th>\n",
       "      <th>CD_SITUACAO_CANDIDATO_PLEITO</th>\n",
       "      <th>CD_SITUACAO_CANDIDATO_URNA</th>\n",
       "    </tr>\n",
       "  </thead>\n",
       "  <tbody>\n",
       "    <tr>\n",
       "      <th>count</th>\n",
       "      <td>29269.0</td>\n",
       "      <td>29269.0</td>\n",
       "      <td>29269.0</td>\n",
       "      <td>29269.0</td>\n",
       "      <td>29269.000000</td>\n",
       "      <td>29269.0</td>\n",
       "      <td>2.926900e+04</td>\n",
       "      <td>29269.000000</td>\n",
       "      <td>2.926900e+04</td>\n",
       "      <td>29269.000000</td>\n",
       "      <td>...</td>\n",
       "      <td>29269.000000</td>\n",
       "      <td>29269.000000</td>\n",
       "      <td>29269.000000</td>\n",
       "      <td>29269.000000</td>\n",
       "      <td>2.926900e+04</td>\n",
       "      <td>29269.000000</td>\n",
       "      <td>29269.0</td>\n",
       "      <td>2.926900e+04</td>\n",
       "      <td>29269.000000</td>\n",
       "      <td>29269.000000</td>\n",
       "    </tr>\n",
       "    <tr>\n",
       "      <th>mean</th>\n",
       "      <td>2020.0</td>\n",
       "      <td>2.0</td>\n",
       "      <td>1.0</td>\n",
       "      <td>426.0</td>\n",
       "      <td>22341.673990</td>\n",
       "      <td>13.0</td>\n",
       "      <td>1.797434e+11</td>\n",
       "      <td>32889.886569</td>\n",
       "      <td>2.922523e+10</td>\n",
       "      <td>11.559978</td>\n",
       "      <td>...</td>\n",
       "      <td>5.627387</td>\n",
       "      <td>2.658000</td>\n",
       "      <td>2.204243</td>\n",
       "      <td>532.344802</td>\n",
       "      <td>8.044686e+04</td>\n",
       "      <td>4.202569</td>\n",
       "      <td>-1.0</td>\n",
       "      <td>6.002235e+18</td>\n",
       "      <td>2.063275</td>\n",
       "      <td>2.054665</td>\n",
       "    </tr>\n",
       "    <tr>\n",
       "      <th>std</th>\n",
       "      <td>0.0</td>\n",
       "      <td>0.0</td>\n",
       "      <td>0.0</td>\n",
       "      <td>0.0</td>\n",
       "      <td>3562.350455</td>\n",
       "      <td>0.0</td>\n",
       "      <td>1.404864e+10</td>\n",
       "      <td>21536.107047</td>\n",
       "      <td>3.108040e+10</td>\n",
       "      <td>1.940800</td>\n",
       "      <td>...</td>\n",
       "      <td>1.701545</td>\n",
       "      <td>2.056771</td>\n",
       "      <td>1.007947</td>\n",
       "      <td>321.971818</td>\n",
       "      <td>1.798536e+05</td>\n",
       "      <td>1.316052</td>\n",
       "      <td>0.0</td>\n",
       "      <td>1.400676e+15</td>\n",
       "      <td>1.379490</td>\n",
       "      <td>1.379635</td>\n",
       "    </tr>\n",
       "    <tr>\n",
       "      <th>min</th>\n",
       "      <td>2020.0</td>\n",
       "      <td>2.0</td>\n",
       "      <td>1.0</td>\n",
       "      <td>426.0</td>\n",
       "      <td>16004.000000</td>\n",
       "      <td>13.0</td>\n",
       "      <td>1.700006e+11</td>\n",
       "      <td>10000.000000</td>\n",
       "      <td>1.321943e+07</td>\n",
       "      <td>3.000000</td>\n",
       "      <td>...</td>\n",
       "      <td>1.000000</td>\n",
       "      <td>1.000000</td>\n",
       "      <td>1.000000</td>\n",
       "      <td>101.000000</td>\n",
       "      <td>1.230775e+04</td>\n",
       "      <td>-1.000000</td>\n",
       "      <td>-1.0</td>\n",
       "      <td>6.000126e+18</td>\n",
       "      <td>-1.000000</td>\n",
       "      <td>-1.000000</td>\n",
       "    </tr>\n",
       "    <tr>\n",
       "      <th>25%</th>\n",
       "      <td>2020.0</td>\n",
       "      <td>2.0</td>\n",
       "      <td>1.0</td>\n",
       "      <td>426.0</td>\n",
       "      <td>18031.000000</td>\n",
       "      <td>13.0</td>\n",
       "      <td>1.700009e+11</td>\n",
       "      <td>15123.000000</td>\n",
       "      <td>4.714564e+09</td>\n",
       "      <td>12.000000</td>\n",
       "      <td>...</td>\n",
       "      <td>4.000000</td>\n",
       "      <td>1.000000</td>\n",
       "      <td>1.000000</td>\n",
       "      <td>257.000000</td>\n",
       "      <td>1.230775e+04</td>\n",
       "      <td>4.000000</td>\n",
       "      <td>-1.0</td>\n",
       "      <td>6.001217e+18</td>\n",
       "      <td>2.000000</td>\n",
       "      <td>2.000000</td>\n",
       "    </tr>\n",
       "    <tr>\n",
       "      <th>50%</th>\n",
       "      <td>2020.0</td>\n",
       "      <td>2.0</td>\n",
       "      <td>1.0</td>\n",
       "      <td>426.0</td>\n",
       "      <td>23833.000000</td>\n",
       "      <td>13.0</td>\n",
       "      <td>1.700011e+11</td>\n",
       "      <td>23600.000000</td>\n",
       "      <td>1.015996e+10</td>\n",
       "      <td>12.000000</td>\n",
       "      <td>...</td>\n",
       "      <td>6.000000</td>\n",
       "      <td>3.000000</td>\n",
       "      <td>3.000000</td>\n",
       "      <td>532.000000</td>\n",
       "      <td>2.461775e+04</td>\n",
       "      <td>5.000000</td>\n",
       "      <td>-1.0</td>\n",
       "      <td>6.001913e+18</td>\n",
       "      <td>2.000000</td>\n",
       "      <td>2.000000</td>\n",
       "    </tr>\n",
       "    <tr>\n",
       "      <th>75%</th>\n",
       "      <td>2020.0</td>\n",
       "      <td>2.0</td>\n",
       "      <td>1.0</td>\n",
       "      <td>426.0</td>\n",
       "      <td>25135.000000</td>\n",
       "      <td>13.0</td>\n",
       "      <td>2.000008e+11</td>\n",
       "      <td>45333.000000</td>\n",
       "      <td>5.514077e+10</td>\n",
       "      <td>12.000000</td>\n",
       "      <td>...</td>\n",
       "      <td>6.000000</td>\n",
       "      <td>3.000000</td>\n",
       "      <td>3.000000</td>\n",
       "      <td>931.000000</td>\n",
       "      <td>5.226632e+04</td>\n",
       "      <td>5.000000</td>\n",
       "      <td>-1.0</td>\n",
       "      <td>6.002876e+18</td>\n",
       "      <td>2.000000</td>\n",
       "      <td>2.000000</td>\n",
       "    </tr>\n",
       "    <tr>\n",
       "      <th>max</th>\n",
       "      <td>2020.0</td>\n",
       "      <td>2.0</td>\n",
       "      <td>1.0</td>\n",
       "      <td>426.0</td>\n",
       "      <td>30031.000000</td>\n",
       "      <td>13.0</td>\n",
       "      <td>2.000014e+11</td>\n",
       "      <td>90999.000000</td>\n",
       "      <td>9.997776e+10</td>\n",
       "      <td>12.000000</td>\n",
       "      <td>...</td>\n",
       "      <td>8.000000</td>\n",
       "      <td>9.000000</td>\n",
       "      <td>6.000000</td>\n",
       "      <td>999.000000</td>\n",
       "      <td>1.011150e+06</td>\n",
       "      <td>5.000000</td>\n",
       "      <td>-1.0</td>\n",
       "      <td>6.011688e+18</td>\n",
       "      <td>17.000000</td>\n",
       "      <td>20.000000</td>\n",
       "    </tr>\n",
       "  </tbody>\n",
       "</table>\n",
       "<p>8 rows × 28 columns</p>\n",
       "</div>"
      ],
      "text/plain": [
       "       ANO_ELEICAO  CD_TIPO_ELEICAO  NR_TURNO  CD_ELEICAO         SG_UE  \\\n",
       "count      29269.0          29269.0   29269.0     29269.0  29269.000000   \n",
       "mean        2020.0              2.0       1.0       426.0  22341.673990   \n",
       "std            0.0              0.0       0.0         0.0   3562.350455   \n",
       "min         2020.0              2.0       1.0       426.0  16004.000000   \n",
       "25%         2020.0              2.0       1.0       426.0  18031.000000   \n",
       "50%         2020.0              2.0       1.0       426.0  23833.000000   \n",
       "75%         2020.0              2.0       1.0       426.0  25135.000000   \n",
       "max         2020.0              2.0       1.0       426.0  30031.000000   \n",
       "\n",
       "       CD_CARGO  SQ_CANDIDATO  NR_CANDIDATO  NR_CPF_CANDIDATO  \\\n",
       "count   29269.0  2.926900e+04  29269.000000      2.926900e+04   \n",
       "mean       13.0  1.797434e+11  32889.886569      2.922523e+10   \n",
       "std         0.0  1.404864e+10  21536.107047      3.108040e+10   \n",
       "min        13.0  1.700006e+11  10000.000000      1.321943e+07   \n",
       "25%        13.0  1.700009e+11  15123.000000      4.714564e+09   \n",
       "50%        13.0  1.700011e+11  23600.000000      1.015996e+10   \n",
       "75%        13.0  2.000008e+11  45333.000000      5.514077e+10   \n",
       "max        13.0  2.000014e+11  90999.000000      9.997776e+10   \n",
       "\n",
       "       CD_SITUACAO_CANDIDATURA  ...  CD_GRAU_INSTRUCAO  CD_ESTADO_CIVIL  \\\n",
       "count             29269.000000  ...       29269.000000     29269.000000   \n",
       "mean                 11.559978  ...           5.627387         2.658000   \n",
       "std                   1.940800  ...           1.701545         2.056771   \n",
       "min                   3.000000  ...           1.000000         1.000000   \n",
       "25%                  12.000000  ...           4.000000         1.000000   \n",
       "50%                  12.000000  ...           6.000000         3.000000   \n",
       "75%                  12.000000  ...           6.000000         3.000000   \n",
       "max                  12.000000  ...           8.000000         9.000000   \n",
       "\n",
       "        CD_COR_RACA   CD_OCUPACAO  VR_DESPESA_MAX_CAMPANHA  CD_SIT_TOT_TURNO  \\\n",
       "count  29269.000000  29269.000000             2.926900e+04      29269.000000   \n",
       "mean       2.204243    532.344802             8.044686e+04          4.202569   \n",
       "std        1.007947    321.971818             1.798536e+05          1.316052   \n",
       "min        1.000000    101.000000             1.230775e+04         -1.000000   \n",
       "25%        1.000000    257.000000             1.230775e+04          4.000000   \n",
       "50%        3.000000    532.000000             2.461775e+04          5.000000   \n",
       "75%        3.000000    931.000000             5.226632e+04          5.000000   \n",
       "max        6.000000    999.000000             1.011150e+06          5.000000   \n",
       "\n",
       "       NR_PROTOCOLO_CANDIDATURA   NR_PROCESSO  CD_SITUACAO_CANDIDATO_PLEITO  \\\n",
       "count                   29269.0  2.926900e+04                  29269.000000   \n",
       "mean                       -1.0  6.002235e+18                      2.063275   \n",
       "std                         0.0  1.400676e+15                      1.379490   \n",
       "min                        -1.0  6.000126e+18                     -1.000000   \n",
       "25%                        -1.0  6.001217e+18                      2.000000   \n",
       "50%                        -1.0  6.001913e+18                      2.000000   \n",
       "75%                        -1.0  6.002876e+18                      2.000000   \n",
       "max                        -1.0  6.011688e+18                     17.000000   \n",
       "\n",
       "       CD_SITUACAO_CANDIDATO_URNA  \n",
       "count                29269.000000  \n",
       "mean                     2.054665  \n",
       "std                      1.379635  \n",
       "min                     -1.000000  \n",
       "25%                      2.000000  \n",
       "50%                      2.000000  \n",
       "75%                      2.000000  \n",
       "max                     20.000000  \n",
       "\n",
       "[8 rows x 28 columns]"
      ]
     },
     "execution_count": 7,
     "metadata": {},
     "output_type": "execute_result"
    }
   ],
   "source": [
    "df_vereadores.describe()"
   ]
  },
  {
   "cell_type": "markdown",
   "id": "5fb2032f",
   "metadata": {},
   "source": [
    "Para gerar relatórios interativos em HTML a partir de um dataframe do pandas usaremos a biblioteca Pandas Profiling, com ele para cada coluna será apresentado estatístico correspondente ao tipo de dado."
   ]
  },
  {
   "cell_type": "code",
   "execution_count": 8,
   "id": "7add4172",
   "metadata": {},
   "outputs": [],
   "source": [
    "import numpy as np\n",
    "from pandas_profiling import ProfileReport"
   ]
  },
  {
   "cell_type": "code",
   "execution_count": 9,
   "id": "adc73219",
   "metadata": {},
   "outputs": [],
   "source": [
    "profile = ProfileReport(df_vereadores, title=\"Introdução - Pandas Profiling Report\")"
   ]
  },
  {
   "cell_type": "code",
   "execution_count": 10,
   "id": "4c530b6f",
   "metadata": {
    "scrolled": true
   },
   "outputs": [
    {
     "data": {
      "application/vnd.jupyter.widget-view+json": {
       "model_id": "d222140d7e4149c18956c78b64f4a561",
       "version_major": 2,
       "version_minor": 0
      },
      "text/plain": [
       "Summarize dataset:   0%|          | 0/5 [00:00<?, ?it/s]"
      ]
     },
     "metadata": {},
     "output_type": "display_data"
    },
    {
     "name": "stderr",
     "output_type": "stream",
     "text": [
      "/home/governanca/Documentos/python-inovacao-civica/venv/lib/python3.10/site-packages/missingno/missingno.py:254: UserWarning: FixedFormatter should only be used together with FixedLocator\n",
      "  ax1.set_xticklabels(\n",
      "/home/governanca/Documentos/python-inovacao-civica/venv/lib/python3.10/site-packages/pandas_profiling/model/missing.py:89: UserWarning: There was an attempt to generate the Count missing values diagrams, but this failed.\n",
      "To hide this warning, disable the calculation\n",
      "(using `df.profile_report(missing_diagrams={\"Count\": False}`)\n",
      "If this is problematic for your use case, please report this as an issue:\n",
      "https://github.com/ydataai/pandas-profiling/issues\n",
      "(include the error message: 'The number of FixedLocator locations (7), usually from a call to set_ticks, does not match the number of ticklabels (64).')\n",
      "  warnings.warn(\n"
     ]
    },
    {
     "data": {
      "application/vnd.jupyter.widget-view+json": {
       "model_id": "9b9a0eb3a5284c93bf7d5044fa74d445",
       "version_major": 2,
       "version_minor": 0
      },
      "text/plain": [
       "Generate report structure:   0%|          | 0/1 [00:00<?, ?it/s]"
      ]
     },
     "metadata": {},
     "output_type": "display_data"
    },
    {
     "data": {
      "application/vnd.jupyter.widget-view+json": {
       "model_id": "bb88e780b4244d6ca7467031296e16ad",
       "version_major": 2,
       "version_minor": 0
      },
      "text/plain": [
       "Render HTML:   0%|          | 0/1 [00:00<?, ?it/s]"
      ]
     },
     "metadata": {},
     "output_type": "display_data"
    },
    {
     "data": {
      "application/vnd.jupyter.widget-view+json": {
       "model_id": "c18af56814f24763ae4b15dd35b365aa",
       "version_major": 2,
       "version_minor": 0
      },
      "text/plain": [
       "Export report to file:   0%|          | 0/1 [00:00<?, ?it/s]"
      ]
     },
     "metadata": {},
     "output_type": "display_data"
    },
    {
     "data": {
      "image/png": "[encoded data removed]",
      "text/plain": [
       "<Figure size 1000x500 with 3 Axes>"
      ]
     },
     "metadata": {},
     "output_type": "display_data"
    }
   ],
   "source": [
    "profile.to_file(output_file=\"relatorio_eleicoes_vereadores_2020_pe_rn.html\")"
   ]
  },
  {
   "cell_type": "markdown",
   "id": "ea1dbad2",
   "metadata": {},
   "source": [
    "## Em PE e RN, houveram quantas candidaturas para a prefeitura?"
   ]
  },
  {
   "cell_type": "code",
   "execution_count": null,
   "id": "a7ae5dad",
   "metadata": {},
   "outputs": [],
   "source": []
  },
  {
   "cell_type": "markdown",
   "id": "c18681a1",
   "metadata": {},
   "source": [
    "### Aula 9: medidas de tendência central e dispersão\n",
    "\n",
    "As medidas de tendência central servem para determinar o valor central de uma distribuição. Vamos explorar mais um pouco nosso dataframe e descobrir qual a moda (valor que mais se repete) da colina 'SG_PARTIDO'"
   ]
  },
  {
   "cell_type": "code",
   "execution_count": 11,
   "id": "a1896ac0",
   "metadata": {},
   "outputs": [
    {
     "data": {
      "text/plain": [
       "0    PSB\n",
       "Name: SG_PARTIDO, dtype: object"
      ]
     },
     "execution_count": 11,
     "metadata": {},
     "output_type": "execute_result"
    }
   ],
   "source": [
    "df_vereadores['SG_PARTIDO'].mode()"
   ]
  },
  {
   "cell_type": "markdown",
   "id": "9760d49a",
   "metadata": {},
   "source": [
    "A média aritmética da coluna 'NR_IDADE_DATA_POSSE' é:"
   ]
  },
  {
   "cell_type": "code",
   "execution_count": 12,
   "id": "525f59a3",
   "metadata": {},
   "outputs": [
    {
     "data": {
      "text/plain": [
       "44.09252109740681"
      ]
     },
     "execution_count": 12,
     "metadata": {},
     "output_type": "execute_result"
    }
   ],
   "source": [
    "df_vereadores['NR_IDADE_DATA_POSSE'].mean()"
   ]
  },
  {
   "cell_type": "markdown",
   "id": "11f8b9cb",
   "metadata": {},
   "source": [
    "Continuando a explorar a idade das pessoas candidatas na data da posse, queremos saber qual é o valor que ocupa a posição central do conjunto de dados, após a ordenação dos valores (mediana).\n"
   ]
  },
  {
   "cell_type": "code",
   "execution_count": 13,
   "id": "3db873c0",
   "metadata": {},
   "outputs": [
    {
     "data": {
      "text/plain": [
       "44.0"
      ]
     },
     "execution_count": 13,
     "metadata": {},
     "output_type": "execute_result"
    }
   ],
   "source": [
    "df_vereadores['NR_IDADE_DATA_POSSE'].median()"
   ]
  },
  {
   "cell_type": "markdown",
   "id": "5e26e703",
   "metadata": {},
   "source": [
    "Qual a variância do dado 'NR_IDADE_DATA_POSSE'?"
   ]
  },
  {
   "cell_type": "code",
   "execution_count": 14,
   "id": "e4241393",
   "metadata": {},
   "outputs": [
    {
     "data": {
      "text/plain": [
       "128.33037627676035"
      ]
     },
     "execution_count": 14,
     "metadata": {},
     "output_type": "execute_result"
    }
   ],
   "source": [
    "df_vereadores['NR_IDADE_DATA_POSSE'].var()"
   ]
  },
  {
   "cell_type": "markdown",
   "id": "880c407e",
   "metadata": {},
   "source": [
    "Qual o desvio padrão do dado 'NR_IDADE_DATA_POSSE'?"
   ]
  },
  {
   "cell_type": "code",
   "execution_count": 15,
   "id": "5031f1f4",
   "metadata": {},
   "outputs": [
    {
     "data": {
      "text/plain": [
       "11.32829979638429"
      ]
     },
     "execution_count": 15,
     "metadata": {},
     "output_type": "execute_result"
    }
   ],
   "source": [
    "df_vereadores['NR_IDADE_DATA_POSSE'].std()"
   ]
  },
  {
   "cell_type": "markdown",
   "id": "c6fbfb0b",
   "metadata": {},
   "source": [
    "## Qual a média, moda e mediana do 'VR_DESPESA_MAX_CAMPANHA'?"
   ]
  },
  {
   "cell_type": "code",
   "execution_count": null,
   "id": "6c0154e6",
   "metadata": {},
   "outputs": [],
   "source": []
  },
  {
   "cell_type": "markdown",
   "id": "818a2d50",
   "metadata": {},
   "source": [
    "### Aula 10: Outliers e valores faltantes\n",
    "\n",
    "\n",
    "De acordo com o dicionário de dados do conjunto de dados do TSE, os valores faltantes estão preenchidos com #NULO#, no entanto o Pandas não reconhece essa palavra como um missing. Faremos a substituição da string \"#NULO#\" pelo valor `None` nas colunas com valores categóricos."
   ]
  },
  {
   "cell_type": "code",
   "execution_count": 16,
   "id": "273c6db3",
   "metadata": {},
   "outputs": [],
   "source": [
    "colunas_categoricas = ['NM_TIPO_ELEICAO', 'DS_ELEICAO', 'TP_ABRANGENCIA', 'SG_UF', 'NM_UE', 'DS_CARGO', \n",
    "                       'NM_CANDIDATO', 'NM_URNA_CANDIDATO', 'NM_SOCIAL_CANDIDATO', 'NM_EMAIL', \n",
    "                       'DS_SITUACAO_CANDIDATURA', 'DS_DETALHE_SITUACAO_CAND', 'TP_AGREMIACAO', 'SG_PARTIDO', \n",
    "                       'NM_PARTIDO', 'NM_COLIGACAO', 'DS_COMPOSICAO_COLIGACAO', 'DS_NACIONALIDADE', \n",
    "                       'SG_UF_NASCIMENTO', 'NM_MUNICIPIO_NASCIMENTO', 'DS_GENERO', 'DS_GRAU_INSTRUCAO', \n",
    "                       'DS_ESTADO_CIVIL', 'DS_COR_RACA', 'DS_OCUPACAO', 'VR_DESPESA_MAX_CAMPANHA', \n",
    "                       'DS_SIT_TOT_TURNO', 'ST_REELEICAO', 'ST_DECLARAR_BENS', 'DS_SITUACAO_CANDIDATO_PLEITO', \n",
    "                       'DS_SITUACAO_CANDIDATO_URNA', 'ST_CANDIDATO_INSERIDO_URNA'\n",
    "                      ]\n"
   ]
  },
  {
   "cell_type": "code",
   "execution_count": 17,
   "id": "ee7060d4",
   "metadata": {},
   "outputs": [],
   "source": [
    "df_vereadores[colunas_categoricas] = df_vereadores.loc[:, colunas_categoricas].replace({'#NULO#': None})"
   ]
  },
  {
   "cell_type": "code",
   "execution_count": 18,
   "id": "3a263f5b",
   "metadata": {},
   "outputs": [
    {
     "name": "stdout",
     "output_type": "stream",
     "text": [
      "<class 'pandas.core.frame.DataFrame'>\n",
      "Int64Index: 29269 entries, 0 to 31654\n",
      "Data columns (total 63 columns):\n",
      " #   Column                         Non-Null Count  Dtype  \n",
      "---  ------                         --------------  -----  \n",
      " 0   DT_GERACAO                     29269 non-null  object \n",
      " 1   HH_GERACAO                     29269 non-null  object \n",
      " 2   ANO_ELEICAO                    29269 non-null  int64  \n",
      " 3   CD_TIPO_ELEICAO                29269 non-null  int64  \n",
      " 4   NM_TIPO_ELEICAO                29269 non-null  object \n",
      " 5   NR_TURNO                       29269 non-null  int64  \n",
      " 6   CD_ELEICAO                     29269 non-null  int64  \n",
      " 7   DS_ELEICAO                     29269 non-null  object \n",
      " 8   DT_ELEICAO                     29269 non-null  object \n",
      " 9   TP_ABRANGENCIA                 29269 non-null  object \n",
      " 10  SG_UF                          29269 non-null  object \n",
      " 11  SG_UE                          29269 non-null  int64  \n",
      " 12  NM_UE                          29269 non-null  object \n",
      " 13  CD_CARGO                       29269 non-null  int64  \n",
      " 14  DS_CARGO                       29269 non-null  object \n",
      " 15  SQ_CANDIDATO                   29269 non-null  int64  \n",
      " 16  NR_CANDIDATO                   29269 non-null  int64  \n",
      " 17  NM_CANDIDATO                   29269 non-null  object \n",
      " 18  NM_URNA_CANDIDATO              29269 non-null  object \n",
      " 19  NM_SOCIAL_CANDIDATO            13 non-null     object \n",
      " 20  NR_CPF_CANDIDATO               29269 non-null  int64  \n",
      " 21  NM_EMAIL                       29269 non-null  object \n",
      " 22  CD_SITUACAO_CANDIDATURA        29269 non-null  int64  \n",
      " 23  DS_SITUACAO_CANDIDATURA        29269 non-null  object \n",
      " 24  CD_DETALHE_SITUACAO_CAND       29269 non-null  int64  \n",
      " 25  DS_DETALHE_SITUACAO_CAND       29269 non-null  object \n",
      " 26  TP_AGREMIACAO                  29269 non-null  object \n",
      " 27  NR_PARTIDO                     29269 non-null  int64  \n",
      " 28  SG_PARTIDO                     29269 non-null  object \n",
      " 29  NM_PARTIDO                     29269 non-null  object \n",
      " 30  SQ_COLIGACAO                   29269 non-null  int64  \n",
      " 31  NM_COLIGACAO                   29269 non-null  object \n",
      " 32  DS_COMPOSICAO_COLIGACAO        29269 non-null  object \n",
      " 33  CD_NACIONALIDADE               29269 non-null  int64  \n",
      " 34  DS_NACIONALIDADE               29269 non-null  object \n",
      " 35  SG_UF_NASCIMENTO               29269 non-null  object \n",
      " 36  CD_MUNICIPIO_NASCIMENTO        29269 non-null  int64  \n",
      " 37  NM_MUNICIPIO_NASCIMENTO        29269 non-null  object \n",
      " 38  DT_NASCIMENTO                  29269 non-null  object \n",
      " 39  NR_IDADE_DATA_POSSE            29269 non-null  int64  \n",
      " 40  NR_TITULO_ELEITORAL_CANDIDATO  29269 non-null  int64  \n",
      " 41  CD_GENERO                      29269 non-null  int64  \n",
      " 42  DS_GENERO                      29269 non-null  object \n",
      " 43  CD_GRAU_INSTRUCAO              29269 non-null  int64  \n",
      " 44  DS_GRAU_INSTRUCAO              29269 non-null  object \n",
      " 45  CD_ESTADO_CIVIL                29269 non-null  int64  \n",
      " 46  DS_ESTADO_CIVIL                29269 non-null  object \n",
      " 47  CD_COR_RACA                    29269 non-null  int64  \n",
      " 48  DS_COR_RACA                    29269 non-null  object \n",
      " 49  CD_OCUPACAO                    29269 non-null  int64  \n",
      " 50  DS_OCUPACAO                    29269 non-null  object \n",
      " 51  VR_DESPESA_MAX_CAMPANHA        29269 non-null  float64\n",
      " 52  CD_SIT_TOT_TURNO               29269 non-null  int64  \n",
      " 53  DS_SIT_TOT_TURNO               28372 non-null  object \n",
      " 54  ST_REELEICAO                   29269 non-null  object \n",
      " 55  ST_DECLARAR_BENS               29269 non-null  object \n",
      " 56  NR_PROTOCOLO_CANDIDATURA       29269 non-null  int64  \n",
      " 57  NR_PROCESSO                    29269 non-null  int64  \n",
      " 58  CD_SITUACAO_CANDIDATO_PLEITO   29269 non-null  int64  \n",
      " 59  DS_SITUACAO_CANDIDATO_PLEITO   28372 non-null  object \n",
      " 60  CD_SITUACAO_CANDIDATO_URNA     29269 non-null  int64  \n",
      " 61  DS_SITUACAO_CANDIDATO_URNA     28372 non-null  object \n",
      " 62  ST_CANDIDATO_INSERIDO_URNA     29269 non-null  object \n",
      "dtypes: float64(1), int64(27), object(35)\n",
      "memory usage: 14.3+ MB\n"
     ]
    }
   ],
   "source": [
    "df_vereadores.info()"
   ]
  },
  {
   "cell_type": "markdown",
   "id": "a770540f",
   "metadata": {},
   "source": [
    "Geraremos um novo relatório usando o Pandas Profiling para visualizar as mudanças."
   ]
  },
  {
   "cell_type": "code",
   "execution_count": 19,
   "id": "b3642341",
   "metadata": {},
   "outputs": [
    {
     "data": {
      "application/vnd.jupyter.widget-view+json": {
       "model_id": "77d42d18e9574e5ba9d6b589083ffabb",
       "version_major": 2,
       "version_minor": 0
      },
      "text/plain": [
       "Summarize dataset:   0%|          | 0/5 [00:00<?, ?it/s]"
      ]
     },
     "metadata": {},
     "output_type": "display_data"
    },
    {
     "name": "stderr",
     "output_type": "stream",
     "text": [
      "/home/governanca/Documentos/python-inovacao-civica/venv/lib/python3.10/site-packages/missingno/missingno.py:254: UserWarning: FixedFormatter should only be used together with FixedLocator\n",
      "  ax1.set_xticklabels(\n",
      "/home/governanca/Documentos/python-inovacao-civica/venv/lib/python3.10/site-packages/pandas_profiling/model/missing.py:89: UserWarning: There was an attempt to generate the Count missing values diagrams, but this failed.\n",
      "To hide this warning, disable the calculation\n",
      "(using `df.profile_report(missing_diagrams={\"Count\": False}`)\n",
      "If this is problematic for your use case, please report this as an issue:\n",
      "https://github.com/ydataai/pandas-profiling/issues\n",
      "(include the error message: 'The number of FixedLocator locations (7), usually from a call to set_ticks, does not match the number of ticklabels (64).')\n",
      "  warnings.warn(\n"
     ]
    },
    {
     "data": {
      "application/vnd.jupyter.widget-view+json": {
       "model_id": "34a2b59d7ad34a8092532d9f14e5f6ad",
       "version_major": 2,
       "version_minor": 0
      },
      "text/plain": [
       "Generate report structure:   0%|          | 0/1 [00:00<?, ?it/s]"
      ]
     },
     "metadata": {},
     "output_type": "display_data"
    },
    {
     "data": {
      "application/vnd.jupyter.widget-view+json": {
       "model_id": "1d918387489a46f78bc8b2e3567b7824",
       "version_major": 2,
       "version_minor": 0
      },
      "text/plain": [
       "Render HTML:   0%|          | 0/1 [00:00<?, ?it/s]"
      ]
     },
     "metadata": {},
     "output_type": "display_data"
    },
    {
     "data": {
      "application/vnd.jupyter.widget-view+json": {
       "model_id": "52d89be80d5f4b82bc9269b6440b3a14",
       "version_major": 2,
       "version_minor": 0
      },
      "text/plain": [
       "Export report to file:   0%|          | 0/1 [00:00<?, ?it/s]"
      ]
     },
     "metadata": {},
     "output_type": "display_data"
    }
   ],
   "source": [
    "profile = ProfileReport(df_vereadores, title=\"Limpeza dos dados - Pandas Profiling Report\")\n",
    "profile.to_file(output_file=\"relatorio_eleicoes_vereadores_2020_pe_rn_limpo.html\")"
   ]
  },
  {
   "cell_type": "markdown",
   "id": "afe7637c",
   "metadata": {},
   "source": [
    "### Aula 12: Operações básicas com dados\n",
    "\n",
    "Costumamos construir um subdataframe apenas com as colunas que usaremos na nossa análise. Existem várias formas de filtrar as linhas e colunas. Vamos aprender como fazer isso separadamente: \n",
    "\n",
    "Filtrar as 26 colunas pertinentes para nosso estudo."
   ]
  },
  {
   "cell_type": "code",
   "execution_count": 20,
   "id": "a0aaec5a",
   "metadata": {},
   "outputs": [],
   "source": [
    "df_vereadores_pe_rn_reduzido = df_vereadores[\n",
    "    ['ANO_ELEICAO','TP_ABRANGENCIA', 'SG_UF', 'SG_UE', 'NM_UE', 'CD_CARGO', 'DS_CARGO',\n",
    "     'NR_CANDIDATO', 'NM_CANDIDATO', 'NM_URNA_CANDIDATO','NM_SOCIAL_CANDIDATO', 'NR_PARTIDO',\n",
    "     'SG_PARTIDO', 'NR_IDADE_DATA_POSSE','CD_GENERO', 'DS_GENERO', 'CD_COR_RACA', 'DS_COR_RACA',\n",
    "     'VR_DESPESA_MAX_CAMPANHA', 'CD_SIT_TOT_TURNO','DS_SIT_TOT_TURNO', 'ST_REELEICAO', 'CD_SITUACAO_CANDIDATURA',\n",
    "     'DS_SITUACAO_CANDIDATURA', 'CD_DETALHE_SITUACAO_CAND', 'DS_DETALHE_SITUACAO_CAND']\n",
    "].copy()"
   ]
  },
  {
   "cell_type": "code",
   "execution_count": 21,
   "id": "2b693814",
   "metadata": {},
   "outputs": [
    {
     "data": {
      "text/plain": [
       "(29269, 26)"
      ]
     },
     "execution_count": 21,
     "metadata": {},
     "output_type": "execute_result"
    }
   ],
   "source": [
    "df_vereadores_pe_rn_reduzido.shape"
   ]
  },
  {
   "cell_type": "markdown",
   "id": "a6f5d4fd",
   "metadata": {},
   "source": [
    "Agora selecionaremos apenas as pessoas que tem sua candidaturas \"apto\", \"deferido\" e \"deferido com recurso\"."
   ]
  },
  {
   "cell_type": "code",
   "execution_count": 22,
   "id": "ab7dd4bc",
   "metadata": {},
   "outputs": [],
   "source": [
    "df_vereadores_pe_rn_reduzido_aptas = df_vereadores_pe_rn_reduzido[\n",
    "    df_vereadores_pe_rn_reduzido['CD_SITUACAO_CANDIDATURA'] == 12\n",
    "]"
   ]
  },
  {
   "cell_type": "code",
   "execution_count": 23,
   "id": "b7b13b2e",
   "metadata": {},
   "outputs": [],
   "source": [
    "df_vereadores_pe_rn_reduzido_aptas_deferidas = df_vereadores_pe_rn_reduzido_aptas[\n",
    "    (df_vereadores_pe_rn_reduzido_aptas['DS_DETALHE_SITUACAO_CAND'] == 'DEFERIDO') | \n",
    "    (df_vereadores_pe_rn_reduzido_aptas['DS_DETALHE_SITUACAO_CAND'] == 'DEFERIDO COM RECURSO')\n",
    "]"
   ]
  },
  {
   "cell_type": "code",
   "execution_count": 24,
   "id": "971ac4c8",
   "metadata": {},
   "outputs": [
    {
     "data": {
      "text/plain": [
       "(27793, 26)"
      ]
     },
     "execution_count": 24,
     "metadata": {},
     "output_type": "execute_result"
    }
   ],
   "source": [
    "df_vereadores_pe_rn_reduzido_aptas_deferidas.shape"
   ]
  },
  {
   "cell_type": "markdown",
   "id": "708c26c6",
   "metadata": {},
   "source": [
    "Agora, aprenderemos a filtrar usando a função `pd.loc`:"
   ]
  },
  {
   "cell_type": "code",
   "execution_count": 25,
   "id": "159a5a64",
   "metadata": {},
   "outputs": [],
   "source": [
    "colunas_desejadas = ['ANO_ELEICAO','TP_ABRANGENCIA', 'SG_UF', 'SG_UE', 'NM_UE', 'CD_CARGO', 'DS_CARGO',\n",
    "     'NR_CANDIDATO', 'NM_CANDIDATO', 'NM_URNA_CANDIDATO','NM_SOCIAL_CANDIDATO', 'NR_PARTIDO',\n",
    "     'SG_PARTIDO', 'NR_IDADE_DATA_POSSE','CD_GENERO', 'DS_GENERO', 'CD_COR_RACA', 'DS_COR_RACA',\n",
    "     'VR_DESPESA_MAX_CAMPANHA', 'CD_SIT_TOT_TURNO','DS_SIT_TOT_TURNO', 'ST_REELEICAO', 'CD_SITUACAO_CANDIDATURA',\n",
    "     'DS_SITUACAO_CANDIDATURA', 'CD_DETALHE_SITUACAO_CAND', 'DS_DETALHE_SITUACAO_CAND']"
   ]
  },
  {
   "cell_type": "code",
   "execution_count": 26,
   "id": "eaf24bfe",
   "metadata": {},
   "outputs": [],
   "source": [
    "filtro_linhas = (df_vereadores['CD_SITUACAO_CANDIDATURA'] == 12) & (\n",
    "    (df_vereadores['DS_DETALHE_SITUACAO_CAND'] == 'DEFERIDO') | \n",
    "    (df_vereadores['DS_DETALHE_SITUACAO_CAND'] == 'DEFERIDO COM RECURSO')\n",
    ")"
   ]
  },
  {
   "cell_type": "code",
   "execution_count": 27,
   "id": "5b46534a",
   "metadata": {},
   "outputs": [],
   "source": [
    "df_vereadores_pe_rn_reduzido_aptas_deferidas_2 = df_vereadores.loc[filtro_linhas, colunas_desejadas]"
   ]
  },
  {
   "cell_type": "code",
   "execution_count": 28,
   "id": "1a71d793",
   "metadata": {},
   "outputs": [
    {
     "data": {
      "text/plain": [
       "(27793, 26)"
      ]
     },
     "execution_count": 28,
     "metadata": {},
     "output_type": "execute_result"
    }
   ],
   "source": [
    "df_vereadores_pe_rn_reduzido_aptas_deferidas_2.shape"
   ]
  },
  {
   "cell_type": "code",
   "execution_count": 29,
   "id": "a345bdfc",
   "metadata": {},
   "outputs": [],
   "source": [
    "df_vereadores_pe_rn = df_vereadores_pe_rn_reduzido_aptas_deferidas_2.copy()"
   ]
  },
  {
   "cell_type": "markdown",
   "id": "bee75b32",
   "metadata": {},
   "source": [
    "## Sua vez, crie um dataframe com apenas os nomes e partidos das pessoas candidatas que se autodeclararam como 'PARDA', 'PRETA' e 'INDÍGENA'"
   ]
  },
  {
   "cell_type": "code",
   "execution_count": null,
   "id": "2c0c506f",
   "metadata": {},
   "outputs": [],
   "source": []
  },
  {
   "cell_type": "markdown",
   "id": "31117422",
   "metadata": {},
   "source": [
    "### Aula 13: Métodos `filter` e `sort_values`\n",
    "\n",
    "Vamos filtrar todas as colunas que possuam as letras \"DIDATO\" no seu título:"
   ]
  },
  {
   "cell_type": "code",
   "execution_count": 30,
   "id": "ae91a3eb",
   "metadata": {},
   "outputs": [
    {
     "data": {
      "text/html": [
       "<div>\n",
       "<style scoped>\n",
       "    .dataframe tbody tr th:only-of-type {\n",
       "        vertical-align: middle;\n",
       "    }\n",
       "\n",
       "    .dataframe tbody tr th {\n",
       "        vertical-align: top;\n",
       "    }\n",
       "\n",
       "    .dataframe thead th {\n",
       "        text-align: right;\n",
       "    }\n",
       "</style>\n",
       "<table border=\"1\" class=\"dataframe\">\n",
       "  <thead>\n",
       "    <tr style=\"text-align: right;\">\n",
       "      <th></th>\n",
       "      <th>NR_CANDIDATO</th>\n",
       "      <th>NM_CANDIDATO</th>\n",
       "      <th>NM_URNA_CANDIDATO</th>\n",
       "      <th>NM_SOCIAL_CANDIDATO</th>\n",
       "    </tr>\n",
       "  </thead>\n",
       "  <tbody>\n",
       "    <tr>\n",
       "      <th>0</th>\n",
       "      <td>17008</td>\n",
       "      <td>MARIA DE LOURDES ALVES DE SOUZA</td>\n",
       "      <td>DONA LOURDES DA BONANÇA</td>\n",
       "      <td>None</td>\n",
       "    </tr>\n",
       "    <tr>\n",
       "      <th>1</th>\n",
       "      <td>15515</td>\n",
       "      <td>JOSÉ MAREVALDO BARROS DE OLIVEIRA</td>\n",
       "      <td>MAREVALDO DA RUA 15</td>\n",
       "      <td>None</td>\n",
       "    </tr>\n",
       "    <tr>\n",
       "      <th>2</th>\n",
       "      <td>25033</td>\n",
       "      <td>JOSÉ AGNIS PERKLES RÊGO</td>\n",
       "      <td>JOSÉ AGNIS</td>\n",
       "      <td>None</td>\n",
       "    </tr>\n",
       "    <tr>\n",
       "      <th>3</th>\n",
       "      <td>45777</td>\n",
       "      <td>DELVANI SILVA SOBRAL</td>\n",
       "      <td>DELVANIA SOBRAL</td>\n",
       "      <td>None</td>\n",
       "    </tr>\n",
       "    <tr>\n",
       "      <th>7</th>\n",
       "      <td>70444</td>\n",
       "      <td>ANTONIO JOANDSON DE ALENCAR AMORIM</td>\n",
       "      <td>PEPI</td>\n",
       "      <td>None</td>\n",
       "    </tr>\n",
       "  </tbody>\n",
       "</table>\n",
       "</div>"
      ],
      "text/plain": [
       "   NR_CANDIDATO                        NM_CANDIDATO        NM_URNA_CANDIDATO  \\\n",
       "0         17008     MARIA DE LOURDES ALVES DE SOUZA  DONA LOURDES DA BONANÇA   \n",
       "1         15515   JOSÉ MAREVALDO BARROS DE OLIVEIRA      MAREVALDO DA RUA 15   \n",
       "2         25033             JOSÉ AGNIS PERKLES RÊGO               JOSÉ AGNIS   \n",
       "3         45777                DELVANI SILVA SOBRAL          DELVANIA SOBRAL   \n",
       "7         70444  ANTONIO JOANDSON DE ALENCAR AMORIM                     PEPI   \n",
       "\n",
       "  NM_SOCIAL_CANDIDATO  \n",
       "0                None  \n",
       "1                None  \n",
       "2                None  \n",
       "3                None  \n",
       "7                None  "
      ]
     },
     "execution_count": 30,
     "metadata": {},
     "output_type": "execute_result"
    }
   ],
   "source": [
    "df_vereadores_pe_rn_nomes = df_vereadores_pe_rn.filter(like='DIDATO', axis=1)\n",
    "df_vereadores_pe_rn_nomes.head()"
   ]
  },
  {
   "cell_type": "markdown",
   "id": "a4061a52",
   "metadata": {},
   "source": [
    "Para ordenar as linhas a partir das colunas 'NM_SOCIAL_CANDIDATO' e 'NM_CANDIDATO, usamos o método df.sort_values:"
   ]
  },
  {
   "cell_type": "code",
   "execution_count": 31,
   "id": "5deb367b",
   "metadata": {},
   "outputs": [
    {
     "data": {
      "text/html": [
       "<div>\n",
       "<style scoped>\n",
       "    .dataframe tbody tr th:only-of-type {\n",
       "        vertical-align: middle;\n",
       "    }\n",
       "\n",
       "    .dataframe tbody tr th {\n",
       "        vertical-align: top;\n",
       "    }\n",
       "\n",
       "    .dataframe thead th {\n",
       "        text-align: right;\n",
       "    }\n",
       "</style>\n",
       "<table border=\"1\" class=\"dataframe\">\n",
       "  <thead>\n",
       "    <tr style=\"text-align: right;\">\n",
       "      <th></th>\n",
       "      <th>NR_CANDIDATO</th>\n",
       "      <th>NM_CANDIDATO</th>\n",
       "      <th>NM_URNA_CANDIDATO</th>\n",
       "      <th>NM_SOCIAL_CANDIDATO</th>\n",
       "    </tr>\n",
       "  </thead>\n",
       "  <tbody>\n",
       "    <tr>\n",
       "      <th>19514</th>\n",
       "      <td>40400</td>\n",
       "      <td>ADRIANO PEREIRA DINIZ</td>\n",
       "      <td>ADRIANO DINIZ</td>\n",
       "      <td>ADRIANO DINIZ</td>\n",
       "    </tr>\n",
       "    <tr>\n",
       "      <th>295</th>\n",
       "      <td>12111</td>\n",
       "      <td>ADRYELLY FERRAZ</td>\n",
       "      <td>ADRIELLY FERRAZ</td>\n",
       "      <td>ADRYELLY FERRAZ</td>\n",
       "    </tr>\n",
       "    <tr>\n",
       "      <th>13931</th>\n",
       "      <td>65333</td>\n",
       "      <td>BRUNA RAFAELA NASCIMENTO</td>\n",
       "      <td>BRUNA</td>\n",
       "      <td>BRUNA RAFAELA NASCIMENTO</td>\n",
       "    </tr>\n",
       "    <tr>\n",
       "      <th>22476</th>\n",
       "      <td>13777</td>\n",
       "      <td>DANIELLE MEDEIROS DE ARAUJO</td>\n",
       "      <td>DANIELLE RONDINELE</td>\n",
       "      <td>DANIELLE MEDEIROS DE ARAUJO</td>\n",
       "    </tr>\n",
       "    <tr>\n",
       "      <th>30609</th>\n",
       "      <td>40111</td>\n",
       "      <td>DÁVILA SALUSTIANO DA CRUZ</td>\n",
       "      <td>DÁVILA MEDEIROS</td>\n",
       "      <td>DAVILA MEDEIROS SALUSTIANO DA CRUZ</td>\n",
       "    </tr>\n",
       "    <tr>\n",
       "      <th>...</th>\n",
       "      <td>...</td>\n",
       "      <td>...</td>\n",
       "      <td>...</td>\n",
       "      <td>...</td>\n",
       "    </tr>\n",
       "    <tr>\n",
       "      <th>18198</th>\n",
       "      <td>45555</td>\n",
       "      <td>ÍTALO HENRIQUE GOMES DE MEDEIROS</td>\n",
       "      <td>ÍTALO HENRIQUE</td>\n",
       "      <td>None</td>\n",
       "    </tr>\n",
       "    <tr>\n",
       "      <th>9139</th>\n",
       "      <td>65666</td>\n",
       "      <td>ÍTALO HENRIQUE KOKAY</td>\n",
       "      <td>DR ÍTALO KOKAY</td>\n",
       "      <td>None</td>\n",
       "    </tr>\n",
       "    <tr>\n",
       "      <th>30316</th>\n",
       "      <td>13333</td>\n",
       "      <td>ÍTALO MATHEUS ARAÚJO DE MENEZES</td>\n",
       "      <td>ÍTALO</td>\n",
       "      <td>None</td>\n",
       "    </tr>\n",
       "    <tr>\n",
       "      <th>26745</th>\n",
       "      <td>40111</td>\n",
       "      <td>ÍTALO VICTOR DE SOUZA DANTAS</td>\n",
       "      <td>ITINHO</td>\n",
       "      <td>None</td>\n",
       "    </tr>\n",
       "    <tr>\n",
       "      <th>14389</th>\n",
       "      <td>11456</td>\n",
       "      <td>ÚRSULA MARIA BARBOSA NUNES</td>\n",
       "      <td>URSULA NUNES</td>\n",
       "      <td>None</td>\n",
       "    </tr>\n",
       "  </tbody>\n",
       "</table>\n",
       "<p>27793 rows × 4 columns</p>\n",
       "</div>"
      ],
      "text/plain": [
       "       NR_CANDIDATO                      NM_CANDIDATO   NM_URNA_CANDIDATO  \\\n",
       "19514         40400             ADRIANO PEREIRA DINIZ       ADRIANO DINIZ   \n",
       "295           12111                   ADRYELLY FERRAZ     ADRIELLY FERRAZ   \n",
       "13931         65333          BRUNA RAFAELA NASCIMENTO               BRUNA   \n",
       "22476         13777       DANIELLE MEDEIROS DE ARAUJO  DANIELLE RONDINELE   \n",
       "30609         40111         DÁVILA SALUSTIANO DA CRUZ     DÁVILA MEDEIROS   \n",
       "...             ...                               ...                 ...   \n",
       "18198         45555  ÍTALO HENRIQUE GOMES DE MEDEIROS      ÍTALO HENRIQUE   \n",
       "9139          65666              ÍTALO HENRIQUE KOKAY      DR ÍTALO KOKAY   \n",
       "30316         13333   ÍTALO MATHEUS ARAÚJO DE MENEZES               ÍTALO   \n",
       "26745         40111      ÍTALO VICTOR DE SOUZA DANTAS              ITINHO   \n",
       "14389         11456        ÚRSULA MARIA BARBOSA NUNES        URSULA NUNES   \n",
       "\n",
       "                      NM_SOCIAL_CANDIDATO  \n",
       "19514                       ADRIANO DINIZ  \n",
       "295                       ADRYELLY FERRAZ  \n",
       "13931            BRUNA RAFAELA NASCIMENTO  \n",
       "22476         DANIELLE MEDEIROS DE ARAUJO  \n",
       "30609  DAVILA MEDEIROS SALUSTIANO DA CRUZ  \n",
       "...                                   ...  \n",
       "18198                                None  \n",
       "9139                                 None  \n",
       "30316                                None  \n",
       "26745                                None  \n",
       "14389                                None  \n",
       "\n",
       "[27793 rows x 4 columns]"
      ]
     },
     "execution_count": 31,
     "metadata": {},
     "output_type": "execute_result"
    }
   ],
   "source": [
    "df_vereadores_pe_rn_nomes.sort_values(by=['NM_SOCIAL_CANDIDATO', 'NM_CANDIDATO'], \n",
    "                                      ascending=True, \n",
    "                                      na_position='last', \n",
    "                                      ignore_index=False\n",
    ")"
   ]
  },
  {
   "cell_type": "markdown",
   "id": "1b2e273a",
   "metadata": {},
   "source": [
    "## Selecione apenas as colunas cujo o título possua \"DS\" e organize em ordem descrescente. Qual o gênero das candidaturas das 3 primeiras linhas?"
   ]
  },
  {
   "cell_type": "code",
   "execution_count": null,
   "id": "7803da95",
   "metadata": {},
   "outputs": [],
   "source": []
  },
  {
   "cell_type": "markdown",
   "id": "60791f6c",
   "metadata": {},
   "source": [
    "### Aula 14: Operações com dados e método `apply`\n",
    "\n",
    "Podemos criar uma nova coluna a partir de operações sobre outras colunas. No exemplo abaixo vamos descobrir o gasto médio diário declarado por cada candidatura."
   ]
  },
  {
   "cell_type": "code",
   "execution_count": 32,
   "id": "eed7e75d",
   "metadata": {},
   "outputs": [],
   "source": [
    "total_dias_campanha = 45\n",
    "df_vereadores_pe_rn['GASTO_DIARIO'] = df_vereadores_pe_rn['VR_DESPESA_MAX_CAMPANHA'] / total_dias_campanha"
   ]
  },
  {
   "cell_type": "code",
   "execution_count": 33,
   "id": "a136009c",
   "metadata": {},
   "outputs": [
    {
     "data": {
      "text/html": [
       "<div>\n",
       "<style scoped>\n",
       "    .dataframe tbody tr th:only-of-type {\n",
       "        vertical-align: middle;\n",
       "    }\n",
       "\n",
       "    .dataframe tbody tr th {\n",
       "        vertical-align: top;\n",
       "    }\n",
       "\n",
       "    .dataframe thead th {\n",
       "        text-align: right;\n",
       "    }\n",
       "</style>\n",
       "<table border=\"1\" class=\"dataframe\">\n",
       "  <thead>\n",
       "    <tr style=\"text-align: right;\">\n",
       "      <th></th>\n",
       "      <th>ANO_ELEICAO</th>\n",
       "      <th>TP_ABRANGENCIA</th>\n",
       "      <th>SG_UF</th>\n",
       "      <th>SG_UE</th>\n",
       "      <th>NM_UE</th>\n",
       "      <th>CD_CARGO</th>\n",
       "      <th>DS_CARGO</th>\n",
       "      <th>NR_CANDIDATO</th>\n",
       "      <th>NM_CANDIDATO</th>\n",
       "      <th>NM_URNA_CANDIDATO</th>\n",
       "      <th>...</th>\n",
       "      <th>DS_COR_RACA</th>\n",
       "      <th>VR_DESPESA_MAX_CAMPANHA</th>\n",
       "      <th>CD_SIT_TOT_TURNO</th>\n",
       "      <th>DS_SIT_TOT_TURNO</th>\n",
       "      <th>ST_REELEICAO</th>\n",
       "      <th>CD_SITUACAO_CANDIDATURA</th>\n",
       "      <th>DS_SITUACAO_CANDIDATURA</th>\n",
       "      <th>CD_DETALHE_SITUACAO_CAND</th>\n",
       "      <th>DS_DETALHE_SITUACAO_CAND</th>\n",
       "      <th>GASTO_DIARIO</th>\n",
       "    </tr>\n",
       "  </thead>\n",
       "  <tbody>\n",
       "    <tr>\n",
       "      <th>0</th>\n",
       "      <td>2020</td>\n",
       "      <td>MUNICIPAL</td>\n",
       "      <td>PE</td>\n",
       "      <td>23817</td>\n",
       "      <td>CARUARU</td>\n",
       "      <td>13</td>\n",
       "      <td>VEREADOR</td>\n",
       "      <td>17008</td>\n",
       "      <td>MARIA DE LOURDES ALVES DE SOUZA</td>\n",
       "      <td>DONA LOURDES DA BONANÇA</td>\n",
       "      <td>...</td>\n",
       "      <td>PARDA</td>\n",
       "      <td>149376.80</td>\n",
       "      <td>5</td>\n",
       "      <td>SUPLENTE</td>\n",
       "      <td>N</td>\n",
       "      <td>12</td>\n",
       "      <td>APTO</td>\n",
       "      <td>2</td>\n",
       "      <td>DEFERIDO</td>\n",
       "      <td>3319.484444</td>\n",
       "    </tr>\n",
       "    <tr>\n",
       "      <th>1</th>\n",
       "      <td>2020</td>\n",
       "      <td>MUNICIPAL</td>\n",
       "      <td>PE</td>\n",
       "      <td>23094</td>\n",
       "      <td>ÁGUAS BELAS</td>\n",
       "      <td>13</td>\n",
       "      <td>VEREADOR</td>\n",
       "      <td>15515</td>\n",
       "      <td>JOSÉ MAREVALDO BARROS DE OLIVEIRA</td>\n",
       "      <td>MAREVALDO DA RUA 15</td>\n",
       "      <td>...</td>\n",
       "      <td>PARDA</td>\n",
       "      <td>48405.01</td>\n",
       "      <td>5</td>\n",
       "      <td>SUPLENTE</td>\n",
       "      <td>N</td>\n",
       "      <td>12</td>\n",
       "      <td>APTO</td>\n",
       "      <td>2</td>\n",
       "      <td>DEFERIDO</td>\n",
       "      <td>1075.666889</td>\n",
       "    </tr>\n",
       "    <tr>\n",
       "      <th>2</th>\n",
       "      <td>2020</td>\n",
       "      <td>MUNICIPAL</td>\n",
       "      <td>PE</td>\n",
       "      <td>25313</td>\n",
       "      <td>RECIFE</td>\n",
       "      <td>13</td>\n",
       "      <td>VEREADOR</td>\n",
       "      <td>25033</td>\n",
       "      <td>JOSÉ AGNIS PERKLES RÊGO</td>\n",
       "      <td>JOSÉ AGNIS</td>\n",
       "      <td>...</td>\n",
       "      <td>BRANCA</td>\n",
       "      <td>1011149.65</td>\n",
       "      <td>5</td>\n",
       "      <td>SUPLENTE</td>\n",
       "      <td>N</td>\n",
       "      <td>12</td>\n",
       "      <td>APTO</td>\n",
       "      <td>2</td>\n",
       "      <td>DEFERIDO</td>\n",
       "      <td>22469.992222</td>\n",
       "    </tr>\n",
       "    <tr>\n",
       "      <th>3</th>\n",
       "      <td>2020</td>\n",
       "      <td>MUNICIPAL</td>\n",
       "      <td>PE</td>\n",
       "      <td>24970</td>\n",
       "      <td>OURICURI</td>\n",
       "      <td>13</td>\n",
       "      <td>VEREADOR</td>\n",
       "      <td>45777</td>\n",
       "      <td>DELVANI SILVA SOBRAL</td>\n",
       "      <td>DELVANIA SOBRAL</td>\n",
       "      <td>...</td>\n",
       "      <td>PARDA</td>\n",
       "      <td>26120.37</td>\n",
       "      <td>2</td>\n",
       "      <td>ELEITO POR QP</td>\n",
       "      <td>N</td>\n",
       "      <td>12</td>\n",
       "      <td>APTO</td>\n",
       "      <td>2</td>\n",
       "      <td>DEFERIDO</td>\n",
       "      <td>580.452667</td>\n",
       "    </tr>\n",
       "    <tr>\n",
       "      <th>7</th>\n",
       "      <td>2020</td>\n",
       "      <td>MUNICIPAL</td>\n",
       "      <td>PE</td>\n",
       "      <td>23108</td>\n",
       "      <td>SANTA CRUZ</td>\n",
       "      <td>13</td>\n",
       "      <td>VEREADOR</td>\n",
       "      <td>70444</td>\n",
       "      <td>ANTONIO JOANDSON DE ALENCAR AMORIM</td>\n",
       "      <td>PEPI</td>\n",
       "      <td>...</td>\n",
       "      <td>PARDA</td>\n",
       "      <td>18991.16</td>\n",
       "      <td>5</td>\n",
       "      <td>SUPLENTE</td>\n",
       "      <td>N</td>\n",
       "      <td>12</td>\n",
       "      <td>APTO</td>\n",
       "      <td>2</td>\n",
       "      <td>DEFERIDO</td>\n",
       "      <td>422.025778</td>\n",
       "    </tr>\n",
       "  </tbody>\n",
       "</table>\n",
       "<p>5 rows × 27 columns</p>\n",
       "</div>"
      ],
      "text/plain": [
       "   ANO_ELEICAO TP_ABRANGENCIA SG_UF  SG_UE        NM_UE  CD_CARGO  DS_CARGO  \\\n",
       "0         2020      MUNICIPAL    PE  23817      CARUARU        13  VEREADOR   \n",
       "1         2020      MUNICIPAL    PE  23094  ÁGUAS BELAS        13  VEREADOR   \n",
       "2         2020      MUNICIPAL    PE  25313       RECIFE        13  VEREADOR   \n",
       "3         2020      MUNICIPAL    PE  24970     OURICURI        13  VEREADOR   \n",
       "7         2020      MUNICIPAL    PE  23108   SANTA CRUZ        13  VEREADOR   \n",
       "\n",
       "   NR_CANDIDATO                        NM_CANDIDATO        NM_URNA_CANDIDATO  \\\n",
       "0         17008     MARIA DE LOURDES ALVES DE SOUZA  DONA LOURDES DA BONANÇA   \n",
       "1         15515   JOSÉ MAREVALDO BARROS DE OLIVEIRA      MAREVALDO DA RUA 15   \n",
       "2         25033             JOSÉ AGNIS PERKLES RÊGO               JOSÉ AGNIS   \n",
       "3         45777                DELVANI SILVA SOBRAL          DELVANIA SOBRAL   \n",
       "7         70444  ANTONIO JOANDSON DE ALENCAR AMORIM                     PEPI   \n",
       "\n",
       "   ... DS_COR_RACA  VR_DESPESA_MAX_CAMPANHA CD_SIT_TOT_TURNO  \\\n",
       "0  ...       PARDA                149376.80                5   \n",
       "1  ...       PARDA                 48405.01                5   \n",
       "2  ...      BRANCA               1011149.65                5   \n",
       "3  ...       PARDA                 26120.37                2   \n",
       "7  ...       PARDA                 18991.16                5   \n",
       "\n",
       "   DS_SIT_TOT_TURNO  ST_REELEICAO CD_SITUACAO_CANDIDATURA  \\\n",
       "0          SUPLENTE             N                      12   \n",
       "1          SUPLENTE             N                      12   \n",
       "2          SUPLENTE             N                      12   \n",
       "3     ELEITO POR QP             N                      12   \n",
       "7          SUPLENTE             N                      12   \n",
       "\n",
       "   DS_SITUACAO_CANDIDATURA CD_DETALHE_SITUACAO_CAND  DS_DETALHE_SITUACAO_CAND  \\\n",
       "0                     APTO                        2                  DEFERIDO   \n",
       "1                     APTO                        2                  DEFERIDO   \n",
       "2                     APTO                        2                  DEFERIDO   \n",
       "3                     APTO                        2                  DEFERIDO   \n",
       "7                     APTO                        2                  DEFERIDO   \n",
       "\n",
       "   GASTO_DIARIO  \n",
       "0   3319.484444  \n",
       "1   1075.666889  \n",
       "2  22469.992222  \n",
       "3    580.452667  \n",
       "7    422.025778  \n",
       "\n",
       "[5 rows x 27 columns]"
      ]
     },
     "execution_count": 33,
     "metadata": {},
     "output_type": "execute_result"
    }
   ],
   "source": [
    "df_vereadores_pe_rn.head()"
   ]
  },
  {
   "cell_type": "markdown",
   "id": "488c750e",
   "metadata": {},
   "source": [
    "Explorando mais um pouco esses dados, trabalharemos apenas com os dados das candidaturas de Pernambuco e classificaremos os gastos médios diários de acordo com os conceitos de quartil e valores discrepantes que vimos nos vídeos sobre estatística:"
   ]
  },
  {
   "cell_type": "code",
   "execution_count": 34,
   "id": "c133044e",
   "metadata": {},
   "outputs": [],
   "source": [
    "df_vereadores_pe = df_vereadores_pe_rn[df_vereadores_pe_rn['SG_UF'] == 'PE'].copy()"
   ]
  },
  {
   "cell_type": "code",
   "execution_count": 35,
   "id": "d0ed61f0",
   "metadata": {},
   "outputs": [],
   "source": [
    "primeiro_quartil = df_vereadores_pe['GASTO_DIARIO'].quantile(0.25)\n",
    "terceiro_quartil = df_vereadores_pe['GASTO_DIARIO'].quantile(0.75)"
   ]
  },
  {
   "cell_type": "code",
   "execution_count": 36,
   "id": "f1418707",
   "metadata": {},
   "outputs": [],
   "source": [
    "intervalo_interquartil = terceiro_quartil - primeiro_quartil"
   ]
  },
  {
   "cell_type": "code",
   "execution_count": 37,
   "id": "7089b366",
   "metadata": {},
   "outputs": [],
   "source": [
    "limite_inferior = primeiro_quartil - (intervalo_interquartil * 1.5)\n",
    "limite_superior = terceiro_quartil + (intervalo_interquartil * 1.5)"
   ]
  },
  {
   "cell_type": "code",
   "execution_count": 38,
   "id": "75bb43a9",
   "metadata": {},
   "outputs": [],
   "source": [
    "def classificacao_gasto(row):\n",
    "    if row < limite_inferior:\n",
    "        return 'muito abaixo da média'\n",
    "    elif row >= limite_inferior and row < primeiro_quartil:\n",
    "        return 'abaixo da média'\n",
    "    elif row >= primeiro_quartil and row <= terceiro_quartil:\n",
    "        return 'na média'\n",
    "    elif row > terceiro_quartil and row <= limite_superior:\n",
    "        return 'acima da média'\n",
    "    else:\n",
    "        return 'muito acima da média'"
   ]
  },
  {
   "cell_type": "code",
   "execution_count": 39,
   "id": "ed50a728",
   "metadata": {},
   "outputs": [],
   "source": [
    "df_vereadores_pe['CLASSIFICACAO_GASTO_DIARIO'] = df_vereadores_pe['GASTO_DIARIO'].apply(classificacao_gasto)"
   ]
  },
  {
   "cell_type": "code",
   "execution_count": 40,
   "id": "13da289a",
   "metadata": {},
   "outputs": [
    {
     "data": {
      "text/html": [
       "<div>\n",
       "<style scoped>\n",
       "    .dataframe tbody tr th:only-of-type {\n",
       "        vertical-align: middle;\n",
       "    }\n",
       "\n",
       "    .dataframe tbody tr th {\n",
       "        vertical-align: top;\n",
       "    }\n",
       "\n",
       "    .dataframe thead th {\n",
       "        text-align: right;\n",
       "    }\n",
       "</style>\n",
       "<table border=\"1\" class=\"dataframe\">\n",
       "  <thead>\n",
       "    <tr style=\"text-align: right;\">\n",
       "      <th></th>\n",
       "      <th>ANO_ELEICAO</th>\n",
       "      <th>TP_ABRANGENCIA</th>\n",
       "      <th>SG_UF</th>\n",
       "      <th>SG_UE</th>\n",
       "      <th>NM_UE</th>\n",
       "      <th>CD_CARGO</th>\n",
       "      <th>DS_CARGO</th>\n",
       "      <th>NR_CANDIDATO</th>\n",
       "      <th>NM_CANDIDATO</th>\n",
       "      <th>NM_URNA_CANDIDATO</th>\n",
       "      <th>...</th>\n",
       "      <th>VR_DESPESA_MAX_CAMPANHA</th>\n",
       "      <th>CD_SIT_TOT_TURNO</th>\n",
       "      <th>DS_SIT_TOT_TURNO</th>\n",
       "      <th>ST_REELEICAO</th>\n",
       "      <th>CD_SITUACAO_CANDIDATURA</th>\n",
       "      <th>DS_SITUACAO_CANDIDATURA</th>\n",
       "      <th>CD_DETALHE_SITUACAO_CAND</th>\n",
       "      <th>DS_DETALHE_SITUACAO_CAND</th>\n",
       "      <th>GASTO_DIARIO</th>\n",
       "      <th>CLASSIFICACAO_GASTO_DIARIO</th>\n",
       "    </tr>\n",
       "  </thead>\n",
       "  <tbody>\n",
       "    <tr>\n",
       "      <th>0</th>\n",
       "      <td>2020</td>\n",
       "      <td>MUNICIPAL</td>\n",
       "      <td>PE</td>\n",
       "      <td>23817</td>\n",
       "      <td>CARUARU</td>\n",
       "      <td>13</td>\n",
       "      <td>VEREADOR</td>\n",
       "      <td>17008</td>\n",
       "      <td>MARIA DE LOURDES ALVES DE SOUZA</td>\n",
       "      <td>DONA LOURDES DA BONANÇA</td>\n",
       "      <td>...</td>\n",
       "      <td>149376.80</td>\n",
       "      <td>5</td>\n",
       "      <td>SUPLENTE</td>\n",
       "      <td>N</td>\n",
       "      <td>12</td>\n",
       "      <td>APTO</td>\n",
       "      <td>2</td>\n",
       "      <td>DEFERIDO</td>\n",
       "      <td>3319.484444</td>\n",
       "      <td>muito acima da média</td>\n",
       "    </tr>\n",
       "    <tr>\n",
       "      <th>1</th>\n",
       "      <td>2020</td>\n",
       "      <td>MUNICIPAL</td>\n",
       "      <td>PE</td>\n",
       "      <td>23094</td>\n",
       "      <td>ÁGUAS BELAS</td>\n",
       "      <td>13</td>\n",
       "      <td>VEREADOR</td>\n",
       "      <td>15515</td>\n",
       "      <td>JOSÉ MAREVALDO BARROS DE OLIVEIRA</td>\n",
       "      <td>MAREVALDO DA RUA 15</td>\n",
       "      <td>...</td>\n",
       "      <td>48405.01</td>\n",
       "      <td>5</td>\n",
       "      <td>SUPLENTE</td>\n",
       "      <td>N</td>\n",
       "      <td>12</td>\n",
       "      <td>APTO</td>\n",
       "      <td>2</td>\n",
       "      <td>DEFERIDO</td>\n",
       "      <td>1075.666889</td>\n",
       "      <td>na média</td>\n",
       "    </tr>\n",
       "    <tr>\n",
       "      <th>2</th>\n",
       "      <td>2020</td>\n",
       "      <td>MUNICIPAL</td>\n",
       "      <td>PE</td>\n",
       "      <td>25313</td>\n",
       "      <td>RECIFE</td>\n",
       "      <td>13</td>\n",
       "      <td>VEREADOR</td>\n",
       "      <td>25033</td>\n",
       "      <td>JOSÉ AGNIS PERKLES RÊGO</td>\n",
       "      <td>JOSÉ AGNIS</td>\n",
       "      <td>...</td>\n",
       "      <td>1011149.65</td>\n",
       "      <td>5</td>\n",
       "      <td>SUPLENTE</td>\n",
       "      <td>N</td>\n",
       "      <td>12</td>\n",
       "      <td>APTO</td>\n",
       "      <td>2</td>\n",
       "      <td>DEFERIDO</td>\n",
       "      <td>22469.992222</td>\n",
       "      <td>muito acima da média</td>\n",
       "    </tr>\n",
       "    <tr>\n",
       "      <th>3</th>\n",
       "      <td>2020</td>\n",
       "      <td>MUNICIPAL</td>\n",
       "      <td>PE</td>\n",
       "      <td>24970</td>\n",
       "      <td>OURICURI</td>\n",
       "      <td>13</td>\n",
       "      <td>VEREADOR</td>\n",
       "      <td>45777</td>\n",
       "      <td>DELVANI SILVA SOBRAL</td>\n",
       "      <td>DELVANIA SOBRAL</td>\n",
       "      <td>...</td>\n",
       "      <td>26120.37</td>\n",
       "      <td>2</td>\n",
       "      <td>ELEITO POR QP</td>\n",
       "      <td>N</td>\n",
       "      <td>12</td>\n",
       "      <td>APTO</td>\n",
       "      <td>2</td>\n",
       "      <td>DEFERIDO</td>\n",
       "      <td>580.452667</td>\n",
       "      <td>na média</td>\n",
       "    </tr>\n",
       "    <tr>\n",
       "      <th>7</th>\n",
       "      <td>2020</td>\n",
       "      <td>MUNICIPAL</td>\n",
       "      <td>PE</td>\n",
       "      <td>23108</td>\n",
       "      <td>SANTA CRUZ</td>\n",
       "      <td>13</td>\n",
       "      <td>VEREADOR</td>\n",
       "      <td>70444</td>\n",
       "      <td>ANTONIO JOANDSON DE ALENCAR AMORIM</td>\n",
       "      <td>PEPI</td>\n",
       "      <td>...</td>\n",
       "      <td>18991.16</td>\n",
       "      <td>5</td>\n",
       "      <td>SUPLENTE</td>\n",
       "      <td>N</td>\n",
       "      <td>12</td>\n",
       "      <td>APTO</td>\n",
       "      <td>2</td>\n",
       "      <td>DEFERIDO</td>\n",
       "      <td>422.025778</td>\n",
       "      <td>na média</td>\n",
       "    </tr>\n",
       "  </tbody>\n",
       "</table>\n",
       "<p>5 rows × 28 columns</p>\n",
       "</div>"
      ],
      "text/plain": [
       "   ANO_ELEICAO TP_ABRANGENCIA SG_UF  SG_UE        NM_UE  CD_CARGO  DS_CARGO  \\\n",
       "0         2020      MUNICIPAL    PE  23817      CARUARU        13  VEREADOR   \n",
       "1         2020      MUNICIPAL    PE  23094  ÁGUAS BELAS        13  VEREADOR   \n",
       "2         2020      MUNICIPAL    PE  25313       RECIFE        13  VEREADOR   \n",
       "3         2020      MUNICIPAL    PE  24970     OURICURI        13  VEREADOR   \n",
       "7         2020      MUNICIPAL    PE  23108   SANTA CRUZ        13  VEREADOR   \n",
       "\n",
       "   NR_CANDIDATO                        NM_CANDIDATO        NM_URNA_CANDIDATO  \\\n",
       "0         17008     MARIA DE LOURDES ALVES DE SOUZA  DONA LOURDES DA BONANÇA   \n",
       "1         15515   JOSÉ MAREVALDO BARROS DE OLIVEIRA      MAREVALDO DA RUA 15   \n",
       "2         25033             JOSÉ AGNIS PERKLES RÊGO               JOSÉ AGNIS   \n",
       "3         45777                DELVANI SILVA SOBRAL          DELVANIA SOBRAL   \n",
       "7         70444  ANTONIO JOANDSON DE ALENCAR AMORIM                     PEPI   \n",
       "\n",
       "   ... VR_DESPESA_MAX_CAMPANHA  CD_SIT_TOT_TURNO DS_SIT_TOT_TURNO  \\\n",
       "0  ...               149376.80                 5         SUPLENTE   \n",
       "1  ...                48405.01                 5         SUPLENTE   \n",
       "2  ...              1011149.65                 5         SUPLENTE   \n",
       "3  ...                26120.37                 2    ELEITO POR QP   \n",
       "7  ...                18991.16                 5         SUPLENTE   \n",
       "\n",
       "   ST_REELEICAO  CD_SITUACAO_CANDIDATURA DS_SITUACAO_CANDIDATURA  \\\n",
       "0             N                       12                    APTO   \n",
       "1             N                       12                    APTO   \n",
       "2             N                       12                    APTO   \n",
       "3             N                       12                    APTO   \n",
       "7             N                       12                    APTO   \n",
       "\n",
       "   CD_DETALHE_SITUACAO_CAND DS_DETALHE_SITUACAO_CAND  GASTO_DIARIO  \\\n",
       "0                         2                 DEFERIDO   3319.484444   \n",
       "1                         2                 DEFERIDO   1075.666889   \n",
       "2                         2                 DEFERIDO  22469.992222   \n",
       "3                         2                 DEFERIDO    580.452667   \n",
       "7                         2                 DEFERIDO    422.025778   \n",
       "\n",
       "   CLASSIFICACAO_GASTO_DIARIO  \n",
       "0        muito acima da média  \n",
       "1                    na média  \n",
       "2        muito acima da média  \n",
       "3                    na média  \n",
       "7                    na média  \n",
       "\n",
       "[5 rows x 28 columns]"
      ]
     },
     "execution_count": 40,
     "metadata": {},
     "output_type": "execute_result"
    }
   ],
   "source": [
    "df_vereadores_pe.head()"
   ]
  },
  {
   "cell_type": "markdown",
   "id": "8b96f806",
   "metadata": {},
   "source": [
    "Para facilitar a visualização faremos um gráfico de barras usando a biblioteca matplotlib:"
   ]
  },
  {
   "cell_type": "code",
   "execution_count": 41,
   "id": "c9d2cf02",
   "metadata": {},
   "outputs": [],
   "source": [
    "from matplotlib import pyplot as plt"
   ]
  },
  {
   "cell_type": "code",
   "execution_count": 42,
   "id": "9a2afa00",
   "metadata": {},
   "outputs": [],
   "source": [
    "# guarda na variável \"classificacao\" uma lista com os rótulos usados para classificar os gastos\n",
    "classificacao = df_vereadores_pe['CLASSIFICACAO_GASTO_DIARIO'].unique().tolist()"
   ]
  },
  {
   "cell_type": "code",
   "execution_count": 43,
   "id": "216ca920",
   "metadata": {},
   "outputs": [],
   "source": [
    "#guarda na variável \"total_por_classificacao\" uma lista a quantidade de ocorrência de cada rótulo\n",
    "total_por_classificacao = df_vereadores_pe['CLASSIFICACAO_GASTO_DIARIO'].value_counts().to_list()"
   ]
  },
  {
   "cell_type": "code",
   "execution_count": 44,
   "id": "30b26e0c",
   "metadata": {},
   "outputs": [
    {
     "data": {
      "image/png": "[encoded data removed]",
      "text/plain": [
       "<Figure size 1000x500 with 3 Axes>"
      ]
     },
     "metadata": {},
     "output_type": "display_data"
    }
   ],
   "source": [
    "plt.bar(classificacao, total_por_classificacao)\n",
    "plt.title('Gastos diários declarados por candidatura')\n",
    "plt.ylabel('Quantitativo de municípios por classificação')\n",
    "\n",
    "plt.show()"
   ]
  },
  {
   "cell_type": "markdown",
   "id": "827e1acf",
   "metadata": {},
   "source": [
    "### Aula 15: Operações com dados e método `groupby`\n",
    "\n",
    "Usando o método groupby podemos agrupar dados segundo informações de uma coluna e fazer operações com o agrupamento.\n",
    "\n",
    "As perguntas que queremos responder são: quantas mulheres são candidatas? Qual a distribuição de pessoas por grupo racial? Quantidade de mulheres por grupo racial? E qual partido tem mais mulheres em cada grupo racial?\n"
   ]
  },
  {
   "cell_type": "code",
   "execution_count": 45,
   "id": "6b9b70e3",
   "metadata": {},
   "outputs": [],
   "source": [
    "colunas_desejadas = ['SG_PARTIDO', 'DS_GENERO', 'DS_COR_RACA']\n",
    "filtro = df_vereadores_pe_rn['SG_UF'] == 'PE'"
   ]
  },
  {
   "cell_type": "code",
   "execution_count": 46,
   "id": "b003a30a",
   "metadata": {},
   "outputs": [],
   "source": [
    "df_vereadores_pe_sexo_raca = df_vereadores_pe_rn.loc[filtro, colunas_desejadas]"
   ]
  },
  {
   "cell_type": "code",
   "execution_count": 47,
   "id": "a036411d",
   "metadata": {},
   "outputs": [
    {
     "data": {
      "text/html": [
       "<div>\n",
       "<style scoped>\n",
       "    .dataframe tbody tr th:only-of-type {\n",
       "        vertical-align: middle;\n",
       "    }\n",
       "\n",
       "    .dataframe tbody tr th {\n",
       "        vertical-align: top;\n",
       "    }\n",
       "\n",
       "    .dataframe thead th {\n",
       "        text-align: right;\n",
       "    }\n",
       "</style>\n",
       "<table border=\"1\" class=\"dataframe\">\n",
       "  <thead>\n",
       "    <tr style=\"text-align: right;\">\n",
       "      <th></th>\n",
       "      <th>SG_PARTIDO</th>\n",
       "      <th>DS_GENERO</th>\n",
       "      <th>DS_COR_RACA</th>\n",
       "    </tr>\n",
       "  </thead>\n",
       "  <tbody>\n",
       "    <tr>\n",
       "      <th>0</th>\n",
       "      <td>PSL</td>\n",
       "      <td>FEMININO</td>\n",
       "      <td>PARDA</td>\n",
       "    </tr>\n",
       "    <tr>\n",
       "      <th>1</th>\n",
       "      <td>MDB</td>\n",
       "      <td>MASCULINO</td>\n",
       "      <td>PARDA</td>\n",
       "    </tr>\n",
       "    <tr>\n",
       "      <th>2</th>\n",
       "      <td>DEM</td>\n",
       "      <td>MASCULINO</td>\n",
       "      <td>BRANCA</td>\n",
       "    </tr>\n",
       "    <tr>\n",
       "      <th>3</th>\n",
       "      <td>PSDB</td>\n",
       "      <td>FEMININO</td>\n",
       "      <td>PARDA</td>\n",
       "    </tr>\n",
       "    <tr>\n",
       "      <th>7</th>\n",
       "      <td>AVANTE</td>\n",
       "      <td>MASCULINO</td>\n",
       "      <td>PARDA</td>\n",
       "    </tr>\n",
       "  </tbody>\n",
       "</table>\n",
       "</div>"
      ],
      "text/plain": [
       "  SG_PARTIDO  DS_GENERO DS_COR_RACA\n",
       "0        PSL   FEMININO       PARDA\n",
       "1        MDB  MASCULINO       PARDA\n",
       "2        DEM  MASCULINO      BRANCA\n",
       "3       PSDB   FEMININO       PARDA\n",
       "7     AVANTE  MASCULINO       PARDA"
      ]
     },
     "execution_count": 47,
     "metadata": {},
     "output_type": "execute_result"
    }
   ],
   "source": [
    "df_vereadores_pe_sexo_raca.head()"
   ]
  },
  {
   "cell_type": "markdown",
   "id": "9fc3e4f7",
   "metadata": {},
   "source": [
    "Agrupando por gênero, quantas candidaturas temos em cada um?"
   ]
  },
  {
   "cell_type": "code",
   "execution_count": 48,
   "id": "69e9046f",
   "metadata": {},
   "outputs": [
    {
     "data": {
      "text/html": [
       "<div>\n",
       "<style scoped>\n",
       "    .dataframe tbody tr th:only-of-type {\n",
       "        vertical-align: middle;\n",
       "    }\n",
       "\n",
       "    .dataframe tbody tr th {\n",
       "        vertical-align: top;\n",
       "    }\n",
       "\n",
       "    .dataframe thead th {\n",
       "        text-align: right;\n",
       "    }\n",
       "</style>\n",
       "<table border=\"1\" class=\"dataframe\">\n",
       "  <thead>\n",
       "    <tr style=\"text-align: right;\">\n",
       "      <th></th>\n",
       "      <th>SG_PARTIDO</th>\n",
       "      <th>DS_COR_RACA</th>\n",
       "    </tr>\n",
       "    <tr>\n",
       "      <th>DS_GENERO</th>\n",
       "      <th></th>\n",
       "      <th></th>\n",
       "    </tr>\n",
       "  </thead>\n",
       "  <tbody>\n",
       "    <tr>\n",
       "      <th>FEMININO</th>\n",
       "      <td>6226</td>\n",
       "      <td>6226</td>\n",
       "    </tr>\n",
       "    <tr>\n",
       "      <th>MASCULINO</th>\n",
       "      <td>12523</td>\n",
       "      <td>12523</td>\n",
       "    </tr>\n",
       "  </tbody>\n",
       "</table>\n",
       "</div>"
      ],
      "text/plain": [
       "           SG_PARTIDO  DS_COR_RACA\n",
       "DS_GENERO                         \n",
       "FEMININO         6226         6226\n",
       "MASCULINO       12523        12523"
      ]
     },
     "execution_count": 48,
     "metadata": {},
     "output_type": "execute_result"
    }
   ],
   "source": [
    "df_vereadores_pe_sexo_raca.groupby(['DS_GENERO']).count()"
   ]
  },
  {
   "cell_type": "markdown",
   "id": "2f01e94e",
   "metadata": {},
   "source": [
    "E por raça?"
   ]
  },
  {
   "cell_type": "code",
   "execution_count": 49,
   "id": "3f5cefbc",
   "metadata": {},
   "outputs": [
    {
     "data": {
      "text/html": [
       "<div>\n",
       "<style scoped>\n",
       "    .dataframe tbody tr th:only-of-type {\n",
       "        vertical-align: middle;\n",
       "    }\n",
       "\n",
       "    .dataframe tbody tr th {\n",
       "        vertical-align: top;\n",
       "    }\n",
       "\n",
       "    .dataframe thead th {\n",
       "        text-align: right;\n",
       "    }\n",
       "</style>\n",
       "<table border=\"1\" class=\"dataframe\">\n",
       "  <thead>\n",
       "    <tr style=\"text-align: right;\">\n",
       "      <th></th>\n",
       "      <th>SG_PARTIDO</th>\n",
       "      <th>DS_GENERO</th>\n",
       "    </tr>\n",
       "    <tr>\n",
       "      <th>DS_COR_RACA</th>\n",
       "      <th></th>\n",
       "      <th></th>\n",
       "    </tr>\n",
       "  </thead>\n",
       "  <tbody>\n",
       "    <tr>\n",
       "      <th>AMARELA</th>\n",
       "      <td>53</td>\n",
       "      <td>53</td>\n",
       "    </tr>\n",
       "    <tr>\n",
       "      <th>BRANCA</th>\n",
       "      <td>6486</td>\n",
       "      <td>6486</td>\n",
       "    </tr>\n",
       "    <tr>\n",
       "      <th>INDÍGENA</th>\n",
       "      <td>116</td>\n",
       "      <td>116</td>\n",
       "    </tr>\n",
       "    <tr>\n",
       "      <th>PARDA</th>\n",
       "      <td>9955</td>\n",
       "      <td>9955</td>\n",
       "    </tr>\n",
       "    <tr>\n",
       "      <th>PRETA</th>\n",
       "      <td>2030</td>\n",
       "      <td>2030</td>\n",
       "    </tr>\n",
       "    <tr>\n",
       "      <th>SEM INFORMAÇÃO</th>\n",
       "      <td>109</td>\n",
       "      <td>109</td>\n",
       "    </tr>\n",
       "  </tbody>\n",
       "</table>\n",
       "</div>"
      ],
      "text/plain": [
       "                SG_PARTIDO  DS_GENERO\n",
       "DS_COR_RACA                          \n",
       "AMARELA                 53         53\n",
       "BRANCA                6486       6486\n",
       "INDÍGENA               116        116\n",
       "PARDA                 9955       9955\n",
       "PRETA                 2030       2030\n",
       "SEM INFORMAÇÃO         109        109"
      ]
     },
     "execution_count": 49,
     "metadata": {},
     "output_type": "execute_result"
    }
   ],
   "source": [
    "df_vereadores_pe_sexo_raca.groupby(['DS_COR_RACA']).count()"
   ]
  },
  {
   "cell_type": "markdown",
   "id": "6347022c",
   "metadata": {},
   "source": [
    "Da candidaturas do gênero feminino, quantas temos em cada grupo racial?"
   ]
  },
  {
   "cell_type": "code",
   "execution_count": 50,
   "id": "0ebe9c99",
   "metadata": {},
   "outputs": [
    {
     "data": {
      "text/html": [
       "<div>\n",
       "<style scoped>\n",
       "    .dataframe tbody tr th:only-of-type {\n",
       "        vertical-align: middle;\n",
       "    }\n",
       "\n",
       "    .dataframe tbody tr th {\n",
       "        vertical-align: top;\n",
       "    }\n",
       "\n",
       "    .dataframe thead th {\n",
       "        text-align: right;\n",
       "    }\n",
       "</style>\n",
       "<table border=\"1\" class=\"dataframe\">\n",
       "  <thead>\n",
       "    <tr style=\"text-align: right;\">\n",
       "      <th></th>\n",
       "      <th></th>\n",
       "      <th>SG_PARTIDO</th>\n",
       "    </tr>\n",
       "    <tr>\n",
       "      <th>DS_GENERO</th>\n",
       "      <th>DS_COR_RACA</th>\n",
       "      <th></th>\n",
       "    </tr>\n",
       "  </thead>\n",
       "  <tbody>\n",
       "    <tr>\n",
       "      <th rowspan=\"6\" valign=\"top\">FEMININO</th>\n",
       "      <th>AMARELA</th>\n",
       "      <td>21</td>\n",
       "    </tr>\n",
       "    <tr>\n",
       "      <th>BRANCA</th>\n",
       "      <td>2354</td>\n",
       "    </tr>\n",
       "    <tr>\n",
       "      <th>INDÍGENA</th>\n",
       "      <td>35</td>\n",
       "    </tr>\n",
       "    <tr>\n",
       "      <th>PARDA</th>\n",
       "      <td>3148</td>\n",
       "    </tr>\n",
       "    <tr>\n",
       "      <th>PRETA</th>\n",
       "      <td>628</td>\n",
       "    </tr>\n",
       "    <tr>\n",
       "      <th>SEM INFORMAÇÃO</th>\n",
       "      <td>40</td>\n",
       "    </tr>\n",
       "  </tbody>\n",
       "</table>\n",
       "</div>"
      ],
      "text/plain": [
       "                          SG_PARTIDO\n",
       "DS_GENERO DS_COR_RACA               \n",
       "FEMININO  AMARELA                 21\n",
       "          BRANCA                2354\n",
       "          INDÍGENA                35\n",
       "          PARDA                 3148\n",
       "          PRETA                  628\n",
       "          SEM INFORMAÇÃO          40"
      ]
     },
     "execution_count": 50,
     "metadata": {},
     "output_type": "execute_result"
    }
   ],
   "source": [
    "df_vereadores_pe_sexo_raca[df_vereadores_pe_sexo_raca['DS_GENERO'] == 'FEMININO'].groupby(\n",
    "    ['DS_GENERO', 'DS_COR_RACA']).count()"
   ]
  },
  {
   "cell_type": "markdown",
   "id": "be3ec27a",
   "metadata": {},
   "source": [
    "Entre as candidaturas do gênero feminino, quais os partidos com maior número de representação em cada grupo racial?"
   ]
  },
  {
   "cell_type": "code",
   "execution_count": 51,
   "id": "65e886b4",
   "metadata": {},
   "outputs": [
    {
     "data": {
      "text/html": [
       "<div>\n",
       "<style scoped>\n",
       "    .dataframe tbody tr th:only-of-type {\n",
       "        vertical-align: middle;\n",
       "    }\n",
       "\n",
       "    .dataframe tbody tr th {\n",
       "        vertical-align: top;\n",
       "    }\n",
       "\n",
       "    .dataframe thead th {\n",
       "        text-align: right;\n",
       "    }\n",
       "</style>\n",
       "<table border=\"1\" class=\"dataframe\">\n",
       "  <thead>\n",
       "    <tr style=\"text-align: right;\">\n",
       "      <th></th>\n",
       "      <th></th>\n",
       "      <th>SG_PARTIDO</th>\n",
       "    </tr>\n",
       "    <tr>\n",
       "      <th>DS_GENERO</th>\n",
       "      <th>DS_COR_RACA</th>\n",
       "      <th></th>\n",
       "    </tr>\n",
       "  </thead>\n",
       "  <tbody>\n",
       "    <tr>\n",
       "      <th rowspan=\"6\" valign=\"top\">FEMININO</th>\n",
       "      <th>AMARELA</th>\n",
       "      <td>REPUBLICANOS</td>\n",
       "    </tr>\n",
       "    <tr>\n",
       "      <th>BRANCA</th>\n",
       "      <td>SOLIDARIEDADE</td>\n",
       "    </tr>\n",
       "    <tr>\n",
       "      <th>INDÍGENA</th>\n",
       "      <td>UP</td>\n",
       "    </tr>\n",
       "    <tr>\n",
       "      <th>PARDA</th>\n",
       "      <td>UP</td>\n",
       "    </tr>\n",
       "    <tr>\n",
       "      <th>PRETA</th>\n",
       "      <td>UP</td>\n",
       "    </tr>\n",
       "    <tr>\n",
       "      <th>SEM INFORMAÇÃO</th>\n",
       "      <td>PT</td>\n",
       "    </tr>\n",
       "  </tbody>\n",
       "</table>\n",
       "</div>"
      ],
      "text/plain": [
       "                             SG_PARTIDO\n",
       "DS_GENERO DS_COR_RACA                  \n",
       "FEMININO  AMARELA          REPUBLICANOS\n",
       "          BRANCA          SOLIDARIEDADE\n",
       "          INDÍGENA                   UP\n",
       "          PARDA                      UP\n",
       "          PRETA                      UP\n",
       "          SEM INFORMAÇÃO             PT"
      ]
     },
     "execution_count": 51,
     "metadata": {},
     "output_type": "execute_result"
    }
   ],
   "source": [
    "df_vereadores_pe_sexo_raca[df_vereadores_pe_sexo_raca['DS_GENERO'] == 'FEMININO'].groupby(\n",
    "    ['DS_GENERO', 'DS_COR_RACA']).max()"
   ]
  },
  {
   "cell_type": "markdown",
   "id": "c3522222",
   "metadata": {},
   "source": [
    "## Agora é a sua vez, entre as candidaturas do sexo masculino, quais os partidos com o menor número de representantes em cada grupo racial?"
   ]
  },
  {
   "cell_type": "code",
   "execution_count": null,
   "id": "b32635b9",
   "metadata": {},
   "outputs": [],
   "source": []
  }
 ],
 "metadata": {
  "kernelspec": {
   "display_name": "Python 3 (ipykernel)",
   "language": "python",
   "name": "python3"
  },
  "language_info": {
   "codemirror_mode": {
    "name": "ipython",
    "version": 3
   },
   "file_extension": ".py",
   "mimetype": "text/x-python",
   "name": "python",
   "nbconvert_exporter": "python",
   "pygments_lexer": "ipython3",
   "version": "3.10.4"
  }
 },
 "nbformat": 4,
 "nbformat_minor": 5
}
