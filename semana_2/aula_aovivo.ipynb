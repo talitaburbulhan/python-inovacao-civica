{
 "cells": [
  {
   "cell_type": "markdown",
   "id": "7187e3e9",
   "metadata": {
    "id": "7187e3e9"
   },
   "source": [
    "# Escola de Dados - Python para inovação cívica\n",
    "\n",
    "Os dados que usaremos nesse notebook pode ser encontrado em: [Candidatos - 2016](https://dadosabertos.tse.jus.br/dataset/candidatos-2016) e [Candidatos - 2020](https://dadosabertos.tse.jus.br/dataset/candidatos-2020-subtemas) disponível no Portal de Dados Abertos do Tribunal Superior Eleitoral.\n",
    "\n",
    "\n",
    "Os dados também podem ser encontrados na pasta \"Dados\" deste repositório.\n",
    "\n",
    "\n",
    "------\n",
    "Pontos para aula:\n",
    "\n",
    "- Quantas candidaturas para a Câmara de Vereadores houveram em cada ano agrupado por gênero ? \n",
    "- Qual a faixa etária média das pessoas candidatas para a Câmara de Vereadores?\n",
    "- Há correlação entre idade, gênero e custo da campanha?\n",
    "- Visualização gráfica da distribuição da variável DS_COR_RACA em 2020"
   ]
  },
  {
   "cell_type": "markdown",
   "id": "d2aa52d3",
   "metadata": {
    "id": "d2aa52d3"
   },
   "source": [
    "# Quantas candidaturas houveram em cada ano agrupado por gênero ? "
   ]
  },
  {
   "cell_type": "code",
   "execution_count": null,
   "id": "32b4107b",
   "metadata": {},
   "outputs": [],
   "source": []
  },
  {
   "cell_type": "markdown",
   "id": "aaeb951e",
   "metadata": {
    "id": "aaeb951e"
   },
   "source": [
    "# Qual a faixa etária média das pessoas candidatas para a Câmara de Vereadores?"
   ]
  },
  {
   "cell_type": "code",
   "execution_count": null,
   "id": "170e36ba",
   "metadata": {},
   "outputs": [],
   "source": []
  },
  {
   "cell_type": "markdown",
   "id": "173e6e5f",
   "metadata": {
    "id": "173e6e5f"
   },
   "source": [
    "# Visualize graficamente a distribuição da variável DS_COR_RACA em 2016"
   ]
  },
  {
   "cell_type": "code",
   "execution_count": null,
   "id": "add56a8b",
   "metadata": {},
   "outputs": [],
   "source": []
  },
  {
   "cell_type": "markdown",
   "id": "85ffe243",
   "metadata": {},
   "source": [
    "# Há correlação entre idade, gênero e custo da campanha?"
   ]
  },
  {
   "cell_type": "code",
   "execution_count": null,
   "id": "6f656742",
   "metadata": {},
   "outputs": [],
   "source": []
  }
 ],
 "metadata": {
  "colab": {
   "collapsed_sections": [],
   "name": "aula_aovivo.ipynb",
   "provenance": []
  },
  "kernelspec": {
   "display_name": "Python 3",
   "language": "python",
   "name": "python3"
  },
  "language_info": {
   "codemirror_mode": {
    "name": "ipython",
    "version": 3
   },
   "file_extension": ".py",
   "mimetype": "text/x-python",
   "name": "python",
   "nbconvert_exporter": "python",
   "pygments_lexer": "ipython3",
   "version": "3.8.10"
  }
 },
 "nbformat": 4,
 "nbformat_minor": 5
}
