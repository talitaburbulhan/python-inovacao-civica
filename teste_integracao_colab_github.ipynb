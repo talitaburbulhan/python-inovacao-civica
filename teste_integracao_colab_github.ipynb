{
  "nbformat": 4,
  "nbformat_minor": 0,
  "metadata": {
    "colab": {
      "provenance": [],
      "authorship_tag": "ABX9TyNHE2hdgzekqXafkFByilK8",
      "include_colab_link": true
    },
    "kernelspec": {
      "name": "python3",
      "display_name": "Python 3"
    },
    "language_info": {
      "name": "python"
    }
  },
  "cells": [
    {
      "cell_type": "markdown",
      "metadata": {
        "id": "view-in-github",
        "colab_type": "text"
      },
      "source": [
        "<a href=\"https://colab.research.google.com/github/talitaburbulhan/python-inovacao-civica/blob/edicao-2/teste_integracao_colab_github.ipynb\" target=\"_parent\"><img src=\"https://colab.research.google.com/assets/colab-badge.svg\" alt=\"Open In Colab\"/></a>"
      ]
    },
    {
      "cell_type": "markdown",
      "source": [
        "🙋🏻‍♀️ **Olá! Este notebook é um teste para exercitar a integração entre o Google Colab e o Github.** \n",
        "\n",
        "\n",
        "\n",
        "\n",
        "👇🏻 A seguir um código de um programa que soma dois número e imprime o resultado na tela "
      ],
      "metadata": {
        "id": "VFfXMEIQxCFh"
      }
    },
    {
      "cell_type": "code",
      "execution_count": 6,
      "metadata": {
        "colab": {
          "base_uri": "https://localhost:8080/"
        },
        "id": "yxaNgH5zw86e",
        "outputId": "603ec00c-d692-470f-e57f-b9e52ab96516"
      },
      "outputs": [
        {
          "output_type": "stream",
          "name": "stdout",
          "text": [
            "Digite um número 8\n",
            "Digite outro número 5\n",
            "O resultado da sua soma é: 13\n"
          ]
        }
      ],
      "source": [
        "num1 = int(input(\"Digite um número \"))\n",
        "num2 = int(input(\"Digite outro número \"))\n",
        "\n",
        "soma = num1 + num2\n",
        "\n",
        "print(f\"O resultado da sua soma é: {soma}\")"
      ]
    }
  ]
}