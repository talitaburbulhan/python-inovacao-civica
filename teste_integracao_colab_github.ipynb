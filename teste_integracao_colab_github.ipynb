{
  "cells": [
    {
      "cell_type": "markdown",
      "metadata": {
        "colab_type": "text",
        "id": "view-in-github"
      },
      "source": [
        "<a href=\"https://colab.research.google.com/github/talitaburbulhan/python-inovacao-civica/blob/edicao-2/teste_integracao_colab_github.ipynb\" target=\"_parent\"><img src=\"https://colab.research.google.com/assets/colab-badge.svg\" alt=\"Open In Colab\"/></a>"
      ]
    },
    {
      "cell_type": "markdown",
      "metadata": {
        "id": "VFfXMEIQxCFh"
      },
      "source": [
        "🙋🏻‍♀️ **Olá! Este notebook é um teste para exercitar a integração entre o Google Colab e o Github.** \n",
        "\n",
        "\n",
        "\n",
        "\n",
        "👇🏻 A seguir um código de um programa que soma dois número e imprime o resultado na tela "
      ]
    },
    {
      "cell_type": "code",
      "execution_count": 6,
      "metadata": {
        "colab": {
          "base_uri": "https://localhost:8080/"
        },
        "id": "yxaNgH5zw86e",
        "outputId": "603ec00c-d692-470f-e57f-b9e52ab96516"
      },
      "outputs": [
        {
          "name": "stdout",
          "output_type": "stream",
          "text": [
            "Digite um número 8\n",
            "Digite outro número 5\n",
            "O resultado da sua soma é: 13\n"
          ]
        }
      ],
      "source": [
        "num1 = int(input(\"Digite um número \"))\n",
        "num2 = int(input(\"Digite outro número \"))\n",
        "\n",
        "soma = num1 + num2\n",
        "\n",
        "print(f\"O resultado da sua soma é: {soma}\")"
      ]
    },
    {
      "cell_type": "markdown",
      "metadata": {},
      "source": [
        "👉🏻 Agora vamos testar a funcionalidade de editar o notebook no Visual Studio e mandar a atualização para o repositório no Github. Algo semelhante poderia ser feito via GitHub Desktop. \n",
        "\n",
        "Será acrescentado ao programa de somar mais um número:"
      ]
    },
    {
      "cell_type": "code",
      "execution_count": null,
      "metadata": {},
      "outputs": [],
      "source": [
        "num1 = int(input(\"Digite um número \"))\n",
        "num2 = int(input(\"Digite outro número \"))\n",
        "num3 = int(input(\"Digite o último número: \"))\n",
        "\n",
        "soma = num1 + num2 + num3\n",
        "\n",
        "print(f\"O resultado da sua soma é: {soma}\")"
      ]
    },
    {
      "cell_type": "code",
      "execution_count": null,
      "metadata": {},
      "outputs": [],
      "source": []
    }
  ],
  "metadata": {
    "colab": {
      "authorship_tag": "ABX9TyNHE2hdgzekqXafkFByilK8",
      "include_colab_link": true,
      "provenance": []
    },
    "kernelspec": {
      "display_name": "Python 3",
      "name": "python3"
    },
    "language_info": {
      "name": "python"
    }
  },
  "nbformat": 4,
  "nbformat_minor": 0
}
