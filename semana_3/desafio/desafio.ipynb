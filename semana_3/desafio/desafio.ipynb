{
 "cells": [
  {
   "cell_type": "markdown",
   "id": "4914c7df",
   "metadata": {
    "id": "bFYatS11gOtN"
   },
   "source": [
    "# Desafio\n",
    "\n",
    "Tente se desafiar um pouco fazendo os desafios extras. Qualquer dúvida, é só falar no grupo, estamos por aqui o/"
   ]
  },
  {
   "cell_type": "markdown",
   "id": "4ac55729",
   "metadata": {},
   "source": [
    "### 1) Acesse a api da camara, e recupere os reembolsos do ano de 2018"
   ]
  },
  {
   "cell_type": "code",
   "execution_count": null,
   "id": "e335c8c7",
   "metadata": {
    "id": "H-ShSuQJ5ICY"
   },
   "outputs": [],
   "source": [
    "import requests\n",
    "\n",
    "# fazendo o download do conteúdo do arquivo\n",
    "r = requests.get(...)"
   ]
  },
  {
   "cell_type": "markdown",
   "id": "e7244afa",
   "metadata": {
    "id": "9V6UrEjQiS4S"
   },
   "source": [
    "### 2) Leia o Arquivo csv "
   ]
  },
  {
   "cell_type": "code",
   "execution_count": null,
   "id": "55880b49",
   "metadata": {
    "id": "yalZ9LW96ONR",
    "scrolled": true
   },
   "outputs": [],
   "source": [
    "import pandas as pd"
   ]
  },
  {
   "cell_type": "markdown",
   "id": "04ac3026",
   "metadata": {},
   "source": [
    "### 3) Visualize 10 linhas aleatórias"
   ]
  },
  {
   "cell_type": "code",
   "execution_count": null,
   "id": "fbde4877",
   "metadata": {},
   "outputs": [],
   "source": []
  },
  {
   "cell_type": "markdown",
   "id": "be0725bb",
   "metadata": {
    "id": "3LhB4RCUVMm7"
   },
   "source": [
    "### 4) Existem registros com `ideDocumento` nulo?"
   ]
  },
  {
   "cell_type": "code",
   "execution_count": null,
   "id": "bc915fec",
   "metadata": {},
   "outputs": [],
   "source": []
  },
  {
   "cell_type": "markdown",
   "id": "f048cb6e",
   "metadata": {},
   "source": [
    "### 5) Converta a coluna `datEmissao` para `datetime`, e descubra quantos reembolsos aconteram no primeiro semestre de 2018"
   ]
  },
  {
   "cell_type": "code",
   "execution_count": null,
   "id": "841f51c2",
   "metadata": {},
   "outputs": [],
   "source": []
  },
  {
   "cell_type": "markdown",
   "id": "f5f7801b",
   "metadata": {},
   "source": [
    "#### [Desafio Extra] Existem registros com `datEmissao` nulos? Se sim, quantos?"
   ]
  },
  {
   "cell_type": "code",
   "execution_count": null,
   "id": "87026a4c",
   "metadata": {},
   "outputs": [],
   "source": []
  },
  {
   "cell_type": "markdown",
   "id": "5a2d2e56",
   "metadata": {},
   "source": [
    "#### [Desafio Extra] Existem registros de outros anos no arquivo de 2018? Se sim, quais anos e quantos registros há nessas datas?"
   ]
  },
  {
   "cell_type": "code",
   "execution_count": null,
   "id": "bd0f4fe8",
   "metadata": {},
   "outputs": [],
   "source": []
  },
  {
   "cell_type": "markdown",
   "id": "c45d303f",
   "metadata": {},
   "source": [
    "### 6) Quais os meses que mais tem solicitação de reembolso?"
   ]
  },
  {
   "cell_type": "code",
   "execution_count": null,
   "id": "86c1ab12",
   "metadata": {},
   "outputs": [],
   "source": []
  },
  {
   "cell_type": "markdown",
   "id": "cdf80d6c",
   "metadata": {},
   "source": [
    "#### [Desafio Extra] Como seria para agrupar os dados no formato `mes/ano` , ao invés de apenas mês?"
   ]
  },
  {
   "cell_type": "code",
   "execution_count": null,
   "id": "7c9b6a14",
   "metadata": {},
   "outputs": [],
   "source": []
  },
  {
   "cell_type": "markdown",
   "id": "a98577da",
   "metadata": {},
   "source": [
    "### 7) Limpe a coluna `txtCNPJCPF`: ela deve conter somente dígitos numéricos"
   ]
  },
  {
   "cell_type": "code",
   "execution_count": null,
   "id": "72548aa5",
   "metadata": {},
   "outputs": [],
   "source": [
    "# vamos trocar qualquer caracter que não seja um dígito número por '', essa operação remove os dígitos\n",
    "df_reimbursements[\"txtCNPJCPF\"] = df_reimbursements..."
   ]
  },
  {
   "cell_type": "markdown",
   "id": "d5592506",
   "metadata": {},
   "source": [
    "### 8) Quais são os valores únicos do campo `indTipoDocumento`? Substitua o conteúdo pela respectiva legenda\n",
    "\n",
    "*Dica*: 0 (Zero), para Nota Fiscal; 1 (um), para Recibo; e 2, para Despesa no Exterior."
   ]
  },
  {
   "cell_type": "code",
   "execution_count": null,
   "id": "1c9b5dcd",
   "metadata": {},
   "outputs": [],
   "source": []
  },
  {
   "cell_type": "markdown",
   "id": "ce8402aa",
   "metadata": {},
   "source": [
    "### [Desafio Extra] 9) Agrupe o valor total de despesas por fornecedor, mês e ano. Você encontrou algum padrão?"
   ]
  },
  {
   "cell_type": "code",
   "execution_count": null,
   "id": "edc06727",
   "metadata": {},
   "outputs": [],
   "source": []
  },
  {
   "cell_type": "markdown",
   "id": "5cf22688",
   "metadata": {},
   "source": [
    "### [Desafio Extra] 10) Quais os 10 parlamentares que mais solicitaram reembolso?"
   ]
  },
  {
   "cell_type": "code",
   "execution_count": null,
   "id": "743e3925",
   "metadata": {},
   "outputs": [],
   "source": []
  },
  {
   "cell_type": "markdown",
   "id": "ada7feda",
   "metadata": {},
   "source": [
    "#### [Desafio Extra] Como ficaria a resposta, caso queiramos saber quais os seus estados e partidos?"
   ]
  },
  {
   "cell_type": "code",
   "execution_count": null,
   "id": "054348d3",
   "metadata": {},
   "outputs": [],
   "source": []
  },
  {
   "cell_type": "markdown",
   "id": "97afecd5",
   "metadata": {},
   "source": [
    "### [Desafio Extra] 11) Quais os partidos e os estados que mais solicitaram reembolso?"
   ]
  },
  {
   "cell_type": "code",
   "execution_count": null,
   "id": "6b8131d8",
   "metadata": {},
   "outputs": [],
   "source": []
  },
  {
   "cell_type": "markdown",
   "id": "48b6dd88",
   "metadata": {},
   "source": [
    "### [Desafio Extra] 12) Recupere os reembolsos de 2019 e acrescente aos dados de 2018"
   ]
  },
  {
   "cell_type": "code",
   "execution_count": null,
   "id": "cf275d82",
   "metadata": {},
   "outputs": [],
   "source": []
  },
  {
   "cell_type": "markdown",
   "id": "3956e033",
   "metadata": {},
   "source": [
    "### [Desafio Extra] 13) Responda novamente as questões 9, 10 e 11. Houve alguma mudança nos resultados?"
   ]
  },
  {
   "cell_type": "code",
   "execution_count": null,
   "id": "913dd2a1",
   "metadata": {},
   "outputs": [],
   "source": []
  }
 ],
 "metadata": {
  "kernelspec": {
   "display_name": "Python 3 (ipykernel)",
   "language": "python",
   "name": "python3"
  },
  "language_info": {
   "codemirror_mode": {
    "name": "ipython",
    "version": 3
   },
   "file_extension": ".py",
   "mimetype": "text/x-python",
   "name": "python",
   "nbconvert_exporter": "python",
   "pygments_lexer": "ipython3",
   "version": "3.8.11"
  },
  "toc": {
   "base_numbering": 1,
   "nav_menu": {},
   "number_sections": true,
   "sideBar": true,
   "skip_h1_title": false,
   "title_cell": "Table of Contents",
   "title_sidebar": "Contents",
   "toc_cell": false,
   "toc_position": {
    "height": "calc(100% - 180px)",
    "left": "10px",
    "top": "150px",
    "width": "165px"
   },
   "toc_section_display": true,
   "toc_window_display": true
  }
 },
 "nbformat": 4,
 "nbformat_minor": 5
}
